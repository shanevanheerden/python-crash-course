{
 "cells": [
  {
   "cell_type": "markdown",
   "metadata": {},
   "source": [
    "# Shane's Super Amazing Python Syntax Crash Course:"
   ]
  },
  {
   "cell_type": "markdown",
   "metadata": {},
   "source": [
    "## Table of Contents:\n",
    "\n",
    "* [1 - Basic operators](#1)\n",
    "    * [1.1 - Print statement](#1.1)\n",
    "    * [1.2 - Arithmetic operators](#1.2)\n",
    "    * [1.3 - Comparison operators](#1.3)\n",
    "    * [1.4 - Assignment operators](#1.4)\n",
    "    * [1.5 - Logical operators](#1.5)\n",
    "    * [1.6 - Membership operators](#1.6)\n",
    "    * [1.7 - Identity operators](#1.7)\n",
    "\n",
    "\n",
    "* [2 - Data structures](#2)\n",
    "    * [2.1 - Lists](#2.1)\n",
    "    * [2.2 - Tuples](#2.2)\n",
    "    * [2.3 - Strings](#2.3)\n",
    "    * [2.4 - Dictionaries](#2.4)\n",
    "\n",
    "\n",
    " * [3 - Control structures](#3)\n",
    "    * [3.1 - If else](#3.1)\n",
    "    * [3.2 - For loop](#3.2)\n",
    "    * [3.3 - While loop](#3.3)\n",
    "    * [3.4 - Loop control statements](#3.4)\n",
    "    * [3.5 - Try except](#3.5)\n",
    "\n",
    "\n",
    " * [4 - Object-oriented programming](#4)\n",
    "    * [4.1 - Functions](#4.1)\n",
    "    * [4.2 - Classes](#4.2)\n",
    "    * [4.3 - Methods](#4.3)\n",
    "\n",
    "\n",
    " * [5 - Packages you cannot live without](#5)\n",
    "    * [5.1 - NumPy](#5.1)\n",
    "    * [5.2 - Pandas](#5.2)\n",
    "    * [5.3 - Matplotlib](#5.3)\n",
    "    * [5.4 - SciPy](#5.4)\n",
    "    * [5.5 - Sklearn](#5.5)\n",
    "\n",
    "\n",
    " * [6 - Online resources](#6)"
   ]
  },
  {
   "cell_type": "markdown",
   "metadata": {},
   "source": [
    "<a id='1'></a>\n",
    "## 1 - Basic operators:"
   ]
  },
  {
   "cell_type": "markdown",
   "metadata": {},
   "source": [
    "<a id='1.1'></a>\n",
    "### 1.1 - Print statement:"
   ]
  },
  {
   "cell_type": "code",
   "execution_count": 1,
   "metadata": {},
   "outputs": [
    {
     "name": "stdout",
     "output_type": "stream",
     "text": [
      "Hello world!\n"
     ]
    }
   ],
   "source": [
    "print('Hello world!')"
   ]
  },
  {
   "cell_type": "markdown",
   "metadata": {},
   "source": [
    "<a id='1.2'></a>\n",
    "### 1.2 - Arithmetic operators:"
   ]
  },
  {
   "cell_type": "code",
   "execution_count": 2,
   "metadata": {},
   "outputs": [
    {
     "name": "stdout",
     "output_type": "stream",
     "text": [
      "Addition: 9\n",
      "Subtraction: 5\n",
      "Multiplication: 14\n",
      "Division: 3.5\n",
      "Exponent: 49\n",
      "Floor division: 3\n",
      "Modulus: 1\n"
     ]
    }
   ],
   "source": [
    "print('Addition:', 7 + 2)\n",
    "print('Subtraction:', 7 - 2)\n",
    "print('Multiplication:', 7 * 2)\n",
    "print('Division:', 7 / 2)\n",
    "print('Exponent:', 7 ** 2)\n",
    "print('Floor division:', 7 // 2)\n",
    "print('Modulus:', 7 % 2)"
   ]
  },
  {
   "cell_type": "markdown",
   "metadata": {},
   "source": [
    "<a id='1.3'></a>\n",
    "### 1.3 - Comparison operators:"
   ]
  },
  {
   "cell_type": "code",
   "execution_count": 3,
   "metadata": {},
   "outputs": [
    {
     "name": "stdout",
     "output_type": "stream",
     "text": [
      "a equals b: False\n",
      "a not equal to b: True\n",
      "a greater than b: False\n",
      "a less than b: True\n",
      "a greater than or equal to b: False\n",
      "a less than b or equal to b: True\n"
     ]
    }
   ],
   "source": [
    "a = 10\n",
    "b = 20\n",
    "\n",
    "print('a equals b:', a == b)\n",
    "print('a not equal to b:', a != b)\n",
    "print('a greater than b:', a > b)\n",
    "print('a less than b:', a < b)\n",
    "print('a greater than or equal to b:', a >= b)\n",
    "print('a less than b or equal to b:', a <= b)"
   ]
  },
  {
   "cell_type": "markdown",
   "metadata": {},
   "source": [
    "<a id='1.4'></a>\n",
    "### 1.4 - Assignment operators:"
   ]
  },
  {
   "cell_type": "code",
   "execution_count": 4,
   "metadata": {},
   "outputs": [
    {
     "name": "stdout",
     "output_type": "stream",
     "text": [
      "Value of c: 30\n",
      "Value of c: 40\n",
      "Value of c: 20\n",
      "Value of c: 60\n",
      "Value of c: 30.0\n",
      "Value of c: 2.0\n",
      "Value of c: 16.0\n",
      "Value of c: 5.0\n"
     ]
    }
   ],
   "source": [
    "a = 10\n",
    "b = 20\n",
    "\n",
    "c = a + b\n",
    "print('Value of c:', c)\n",
    "c += 10\n",
    "print('Value of c:', c)\n",
    "c -= 20\n",
    "print('Value of c:', c)\n",
    "c *= 3\n",
    "print('Value of c:', c)\n",
    "c /= 2\n",
    "print('Value of c:', c)\n",
    "c %= 7\n",
    "print('Value of c:', c)\n",
    "c **= 4\n",
    "print('Value of c:', c)\n",
    "c //= 3\n",
    "print('Value of c:', c)"
   ]
  },
  {
   "cell_type": "markdown",
   "metadata": {},
   "source": [
    "<a id='1.5'></a>\n",
    "### 1.5 - Logical operators:"
   ]
  },
  {
   "cell_type": "code",
   "execution_count": 5,
   "metadata": {},
   "outputs": [
    {
     "name": "stdout",
     "output_type": "stream",
     "text": [
      "a AND b: False\n",
      "a OR b: True\n",
      "NOT b True\n"
     ]
    }
   ],
   "source": [
    "a = True\n",
    "b = False\n",
    "\n",
    "print('a AND b:', a and b)\n",
    "print('a OR b:', a or b)\n",
    "print('NOT b', not b)"
   ]
  },
  {
   "cell_type": "markdown",
   "metadata": {},
   "source": [
    "<a id='1.6'></a>\n",
    "### 1.6 - Membership operators:"
   ]
  },
  {
   "cell_type": "code",
   "execution_count": 6,
   "metadata": {},
   "outputs": [
    {
     "name": "stdout",
     "output_type": "stream",
     "text": [
      "a IN list: True\n",
      "a NOT IN list: False\n"
     ]
    }
   ],
   "source": [
    "a = 3\n",
    "list = [1, 2, 3, 4, 5]\n",
    "\n",
    "print('a IN list:', a in list)\n",
    "print('a NOT IN list:', a not in list)"
   ]
  },
  {
   "cell_type": "markdown",
   "metadata": {},
   "source": [
    "<a id='1.7'></a>\n",
    "### 1.7 - Identity operators:"
   ]
  },
  {
   "cell_type": "code",
   "execution_count": 7,
   "metadata": {},
   "outputs": [
    {
     "name": "stdout",
     "output_type": "stream",
     "text": [
      "a IS b: False\n",
      "a IS NOT b: True\n"
     ]
    }
   ],
   "source": [
    "a = 'cat'\n",
    "b = 'dog'\n",
    "\n",
    "print('a IS b:', a is b)\n",
    "print('a IS NOT b:', a is not b)"
   ]
  },
  {
   "cell_type": "markdown",
   "metadata": {},
   "source": [
    "<a id='2'></a>\n",
    "## 2 - Data structures:"
   ]
  },
  {
   "cell_type": "markdown",
   "metadata": {},
   "source": [
    "<a id='2.1'></a>\n",
    "### 2.1 - Lists:"
   ]
  },
  {
   "cell_type": "markdown",
   "metadata": {},
   "source": [
    "#### 2.1.1 - List methods:"
   ]
  },
  {
   "cell_type": "code",
   "execution_count": 8,
   "metadata": {},
   "outputs": [
    {
     "name": "stdout",
     "output_type": "stream",
     "text": [
      "List methods: ['__add__', '__class__', '__contains__', '__delattr__', '__delitem__', '__dir__', '__doc__', '__eq__', '__format__', '__ge__', '__getattribute__', '__getitem__', '__gt__', '__hash__', '__iadd__', '__imul__', '__init__', '__init_subclass__', '__iter__', '__le__', '__len__', '__lt__', '__mul__', '__ne__', '__new__', '__reduce__', '__reduce_ex__', '__repr__', '__reversed__', '__rmul__', '__setattr__', '__setitem__', '__sizeof__', '__str__', '__subclasshook__', 'append', 'clear', 'copy', 'count', 'extend', 'index', 'insert', 'pop', 'remove', 'reverse', 'sort']\n"
     ]
    }
   ],
   "source": [
    "print('List methods:', dir(list))"
   ]
  },
  {
   "cell_type": "markdown",
   "metadata": {},
   "source": [
    "#### 2.1.2 - List operations:"
   ]
  },
  {
   "cell_type": "code",
   "execution_count": 9,
   "metadata": {},
   "outputs": [
    {
     "name": "stdout",
     "output_type": "stream",
     "text": [
      "I have 3 cats!\n",
      "Patrick is my favourite cat.\n",
      "True\n"
     ]
    }
   ],
   "source": [
    "cat_names = ['Cinnamon', 'Patrick', 'Maki']\n",
    "\n",
    "print('I have', len(cat_names), 'cats!')\n",
    "print(cat_names[1], 'is my favourite cat.')\n",
    "print('Maki' in cat_names)"
   ]
  },
  {
   "cell_type": "markdown",
   "metadata": {},
   "source": [
    "#### 2.1.3 - List functions:"
   ]
  },
  {
   "cell_type": "code",
   "execution_count": 10,
   "metadata": {
    "scrolled": true
   },
   "outputs": [
    {
     "name": "stdout",
     "output_type": "stream",
     "text": [
      "Minimum: 1\n",
      "Maximum: 21\n",
      "Count: 2\n",
      "List after insert: [1, 1, 2, 3, 'five', 8, 13, 21]\n",
      "List after append: [1, 1, 2, 3, 'five', 8, 13, 21, 34]\n",
      "List after extend: [1, 1, 2, 3, 'five', 8, 13, 21, 34, 55, 89, 144]\n",
      "List after reverse: [144, 89, 55, 34, 21, 13, 8, 'five', 3, 2, 1, 1]\n"
     ]
    }
   ],
   "source": [
    "my_list = [1, 1, 2, 3, 8, 13, 21]\n",
    "\n",
    "print('Minimum:', min(my_list))\n",
    "print('Maximum:', max(my_list))\n",
    "print('Count:', my_list.count(1))\n",
    "\n",
    "my_list.insert(4, 'five')\n",
    "print('List after insert:', my_list)\n",
    "my_list.append(34)\n",
    "print('List after append:', my_list)\n",
    "my_list.extend([55, 89, 144])\n",
    "print('List after extend:', my_list)\n",
    "my_list.reverse()\n",
    "print('List after reverse:', my_list)"
   ]
  },
  {
   "cell_type": "markdown",
   "metadata": {},
   "source": [
    "#### 2.1.4 - Remove vs delete vs pop:"
   ]
  },
  {
   "cell_type": "code",
   "execution_count": 43,
   "metadata": {
    "scrolled": true
   },
   "outputs": [
    {
     "name": "stdout",
     "output_type": "stream",
     "text": [
      "['Ryan', 'Hano', 'Mattie', 'Johan', 'Shane']\n",
      "['Ryan', 'Hano', 'Mattie', 'Johan']\n",
      "Mattie\n",
      "['Ryan', 'Hano', 'Johan']\n"
     ]
    }
   ],
   "source": [
    "a_side = ['Ryan', 'Hano', 'Stephan', 'Mattie', 'Johan', 'Shane']\n",
    "\n",
    "a_side.remove('Stephan')\n",
    "print(a_side)\n",
    "\n",
    "del a_side[-1]\n",
    "print(a_side)\n",
    "\n",
    "print(a_side.pop(2))\n",
    "print(a_side)"
   ]
  },
  {
   "cell_type": "markdown",
   "metadata": {},
   "source": [
    "<a id='2.2'></a>\n",
    "### 2.2 - Tuples:"
   ]
  },
  {
   "cell_type": "markdown",
   "metadata": {},
   "source": [
    "#### 2.2.1 - Tuple methods:"
   ]
  },
  {
   "cell_type": "code",
   "execution_count": 12,
   "metadata": {},
   "outputs": [
    {
     "name": "stdout",
     "output_type": "stream",
     "text": [
      "Tuple methods: ['__add__', '__class__', '__contains__', '__delattr__', '__dir__', '__doc__', '__eq__', '__format__', '__ge__', '__getattribute__', '__getitem__', '__getnewargs__', '__gt__', '__hash__', '__init__', '__init_subclass__', '__iter__', '__le__', '__len__', '__lt__', '__mul__', '__ne__', '__new__', '__reduce__', '__reduce_ex__', '__repr__', '__rmul__', '__setattr__', '__sizeof__', '__str__', '__subclasshook__', 'count', 'index']\n"
     ]
    }
   ],
   "source": [
    "print('Tuple methods:', dir(tuple))"
   ]
  },
  {
   "cell_type": "markdown",
   "metadata": {},
   "source": [
    "#### 2.2.2 - Lists vs tuples:"
   ]
  },
  {
   "cell_type": "code",
   "execution_count": null,
   "metadata": {},
   "outputs": [
    {
     "name": "stdout",
     "output_type": "stream",
     "text": [
      "['Marno', 'Hano', 'Stephan', 'Mattie', 'Johan', 'Shane']\n"
     ]
    }
   ],
   "source": [
    "a_side_list = ['Ryan', 'Hano', 'Stephan', 'Mattie', 'Johan', 'Shane']\n",
    "\n",
    "a_side_list[0] = 'Marno'\n",
    "\n",
    "print(a_side_list)"
   ]
  },
  {
   "cell_type": "code",
   "execution_count": 14,
   "metadata": {},
   "outputs": [
    {
     "ename": "TypeError",
     "evalue": "'tuple' object does not support item assignment",
     "output_type": "error",
     "traceback": [
      "\u001b[1;31m---------------------------------------------------------------------------\u001b[0m",
      "\u001b[1;31mTypeError\u001b[0m                                 Traceback (most recent call last)",
      "\u001b[1;32m<ipython-input-14-299aa6091d39>\u001b[0m in \u001b[0;36m<module>\u001b[1;34m()\u001b[0m\n\u001b[0;32m      1\u001b[0m \u001b[0ma_side_tuple\u001b[0m \u001b[1;33m=\u001b[0m \u001b[1;33m(\u001b[0m\u001b[1;34m'Ryan'\u001b[0m\u001b[1;33m,\u001b[0m \u001b[1;34m'Hano'\u001b[0m\u001b[1;33m,\u001b[0m \u001b[1;34m'Stephan'\u001b[0m\u001b[1;33m,\u001b[0m \u001b[1;34m'Mattie'\u001b[0m\u001b[1;33m,\u001b[0m \u001b[1;34m'Johan'\u001b[0m\u001b[1;33m,\u001b[0m \u001b[1;34m'Shane'\u001b[0m\u001b[1;33m)\u001b[0m\u001b[1;33m\u001b[0m\u001b[0m\n\u001b[0;32m      2\u001b[0m \u001b[1;33m\u001b[0m\u001b[0m\n\u001b[1;32m----> 3\u001b[1;33m \u001b[0ma_side_tuple\u001b[0m\u001b[1;33m[\u001b[0m\u001b[1;36m0\u001b[0m\u001b[1;33m]\u001b[0m \u001b[1;33m=\u001b[0m \u001b[1;34m'Marno'\u001b[0m\u001b[1;33m\u001b[0m\u001b[0m\n\u001b[0m\u001b[0;32m      4\u001b[0m \u001b[1;33m\u001b[0m\u001b[0m\n\u001b[0;32m      5\u001b[0m \u001b[0mprint\u001b[0m\u001b[1;33m(\u001b[0m\u001b[0ma_side_tuple\u001b[0m\u001b[1;33m)\u001b[0m\u001b[1;33m\u001b[0m\u001b[0m\n",
      "\u001b[1;31mTypeError\u001b[0m: 'tuple' object does not support item assignment"
     ]
    }
   ],
   "source": [
    "a_side_tuple = ('Ryan', 'Hano', 'Stephan', 'Mattie', 'Johan', 'Shane')\n",
    "\n",
    "a_side_tuple[0] = 'Marno'\n",
    "\n",
    "print(a_side_tuple)"
   ]
  },
  {
   "cell_type": "markdown",
   "metadata": {},
   "source": [
    "<a id='2.3'></a>\n",
    "### 2.3 - Strings:"
   ]
  },
  {
   "cell_type": "markdown",
   "metadata": {},
   "source": [
    "#### 2.3.1 - String methods:"
   ]
  },
  {
   "cell_type": "code",
   "execution_count": 22,
   "metadata": {
    "scrolled": true
   },
   "outputs": [
    {
     "name": "stdout",
     "output_type": "stream",
     "text": [
      "String methods: ['__add__', '__class__', '__contains__', '__delattr__', '__dir__', '__doc__', '__eq__', '__format__', '__ge__', '__getattribute__', '__getitem__', '__getnewargs__', '__gt__', '__hash__', '__init__', '__init_subclass__', '__iter__', '__le__', '__len__', '__lt__', '__mod__', '__mul__', '__ne__', '__new__', '__reduce__', '__reduce_ex__', '__repr__', '__rmod__', '__rmul__', '__setattr__', '__sizeof__', '__str__', '__subclasshook__', 'capitalize', 'casefold', 'center', 'count', 'encode', 'endswith', 'expandtabs', 'find', 'format', 'format_map', 'index', 'isalnum', 'isalpha', 'isdecimal', 'isdigit', 'isidentifier', 'islower', 'isnumeric', 'isprintable', 'isspace', 'istitle', 'isupper', 'join', 'ljust', 'lower', 'lstrip', 'maketrans', 'partition', 'replace', 'rfind', 'rindex', 'rjust', 'rpartition', 'rsplit', 'rstrip', 'split', 'splitlines', 'startswith', 'strip', 'swapcase', 'title', 'translate', 'upper', 'zfill']\n"
     ]
    }
   ],
   "source": [
    "print('String methods:', dir(str))"
   ]
  },
  {
   "cell_type": "markdown",
   "metadata": {},
   "source": [
    "#### 2.3.2 - String formatting:"
   ]
  },
  {
   "cell_type": "code",
   "execution_count": 16,
   "metadata": {
    "scrolled": true
   },
   "outputs": [
    {
     "name": "stdout",
     "output_type": "stream",
     "text": [
      "Dr Danie Lotter is 31 years old!\n",
      "Dr Danie Lotter is 31 years old!\n",
      "Dr Danie Lotter is 31 years old!\n"
     ]
    }
   ],
   "source": [
    "first_name = 'Danie'\n",
    "last_name = 'Lotter'\n",
    "age = 31\n",
    "\n",
    "print('Dr ' + first_name + ' ' + last_name + ' is ' + str(age) + ' years old!')\n",
    "print('Dr %s %s is %d years old!' % (first_name, last_name, age))\n",
    "print('Dr {0} {1} is {2} years old!'.format(first_name, last_name, age))"
   ]
  },
  {
   "cell_type": "markdown",
   "metadata": {},
   "source": [
    "#### 2.3.3 - String escape characters:"
   ]
  },
  {
   "cell_type": "code",
   "execution_count": 17,
   "metadata": {},
   "outputs": [
    {
     "name": "stdout",
     "output_type": "stream",
     "text": [
      "I stepped on a corn flake,\n",
      "now I'm a\tcereal killer.\n"
     ]
    }
   ],
   "source": [
    "sentence = 'I stepped on a corn flake,\\nnow I\\'m a\\tcereal killer.'\n",
    "print(sentence)"
   ]
  },
  {
   "cell_type": "markdown",
   "metadata": {},
   "source": [
    "#### 2.3.4 - String operators:"
   ]
  },
  {
   "cell_type": "code",
   "execution_count": 18,
   "metadata": {},
   "outputs": [
    {
     "name": "stdout",
     "output_type": "stream",
     "text": [
      "Meow\n",
      "Cats are really really really really really awesome.\n"
     ]
    }
   ],
   "source": [
    "name = 'Meowingtons'\n",
    "print(name[:4])\n",
    "\n",
    "word ='really '\n",
    "print('Cats are ' + word*5 + 'awesome.')"
   ]
  },
  {
   "cell_type": "markdown",
   "metadata": {},
   "source": [
    "#### 2.3.5 - Raw strings:"
   ]
  },
  {
   "cell_type": "code",
   "execution_count": 19,
   "metadata": {},
   "outputs": [
    {
     "name": "stdout",
     "output_type": "stream",
     "text": [
      "C:\\Users\\17683068\\Pictures\\cat496.png\n"
     ]
    }
   ],
   "source": [
    "path = r'C:\\Users\\Shane\\Pictures\\cat496.png'\n",
    "print(path)"
   ]
  },
  {
   "cell_type": "markdown",
   "metadata": {},
   "source": [
    "<a id='2.4'></a>\n",
    "### 2.4 - Dictionaries:"
   ]
  },
  {
   "cell_type": "markdown",
   "metadata": {},
   "source": [
    "#### 2.4.1 - Dictionary methods:"
   ]
  },
  {
   "cell_type": "code",
   "execution_count": 20,
   "metadata": {},
   "outputs": [
    {
     "name": "stdout",
     "output_type": "stream",
     "text": [
      "Dictionary methods: ['__class__', '__contains__', '__delattr__', '__delitem__', '__dir__', '__doc__', '__eq__', '__format__', '__ge__', '__getattribute__', '__getitem__', '__gt__', '__hash__', '__init__', '__init_subclass__', '__iter__', '__le__', '__len__', '__lt__', '__ne__', '__new__', '__reduce__', '__reduce_ex__', '__repr__', '__setattr__', '__setitem__', '__sizeof__', '__str__', '__subclasshook__', 'clear', 'copy', 'fromkeys', 'get', 'items', 'keys', 'pop', 'popitem', 'setdefault', 'update', 'values']\n"
     ]
    }
   ],
   "source": [
    "print('Dictionary methods:', dir(dict))"
   ]
  },
  {
   "cell_type": "markdown",
   "metadata": {},
   "source": [
    "<a id='3'></a>\n",
    "## 3 - Control structures:"
   ]
  },
  {
   "cell_type": "markdown",
   "metadata": {},
   "source": [
    "<a id='3.1'></a>\n",
    "### 3.1 - If else:"
   ]
  },
  {
   "cell_type": "code",
   "execution_count": 4,
   "metadata": {},
   "outputs": [
    {
     "name": "stdout",
     "output_type": "stream",
     "text": [
      "You need more cats!\n"
     ]
    }
   ],
   "source": [
    "num_of_cats = 10\n",
    "\n",
    "if num_of_cats >= 100:\n",
    "    print('That\\'s a lot of cats!')\n",
    "else:\n",
    "    print('You need more cats!')"
   ]
  },
  {
   "cell_type": "markdown",
   "metadata": {},
   "source": [
    "<a id='3.2'></a>\n",
    "### 3.2 - For loop:"
   ]
  },
  {
   "cell_type": "code",
   "execution_count": 31,
   "metadata": {},
   "outputs": [
    {
     "name": "stdout",
     "output_type": "stream",
     "text": [
      "10 fluffy cats on the wall, 10 fluffy cats, take one down, pass it around, 9 fluffy cats on the wall.\n",
      "9 fluffy cats on the wall, 9 fluffy cats, take one down, pass it around, 8 fluffy cats on the wall.\n",
      "8 fluffy cats on the wall, 8 fluffy cats, take one down, pass it around, 7 fluffy cats on the wall.\n",
      "7 fluffy cats on the wall, 7 fluffy cats, take one down, pass it around, 6 fluffy cats on the wall.\n",
      "6 fluffy cats on the wall, 6 fluffy cats, take one down, pass it around, 5 fluffy cats on the wall.\n",
      "5 fluffy cats on the wall, 5 fluffy cats, take one down, pass it around, 4 fluffy cats on the wall.\n",
      "4 fluffy cats on the wall, 4 fluffy cats, take one down, pass it around, 3 fluffy cats on the wall.\n",
      "3 fluffy cats on the wall, 3 fluffy cats, take one down, pass it around, 2 fluffy cats on the wall.\n",
      "2 fluffy cats on the wall, 2 fluffy cats, take one down, pass it around, 1 fluffy cats on the wall.\n",
      "1 fluffy cats on the wall, 1 fluffy cats, take one down, pass it around, 0 fluffy cats on the wall.\n"
     ]
    }
   ],
   "source": [
    "for i in range(10, 0, -1):\n",
    "    print('{0} fluffy cats on the wall, {0} fluffy cats, take one down, pass it around, {1} fluffy cats on the wall.'.format(i, i-1))"
   ]
  },
  {
   "cell_type": "code",
   "execution_count": 6,
   "metadata": {},
   "outputs": [
    {
     "name": "stdout",
     "output_type": "stream",
     "text": [
      "My cat, Patrick, is fluffy.\n",
      "My cat, Cinnomon, is fat.\n",
      "My cat, Maki, is fabulous.\n"
     ]
    }
   ],
   "source": [
    "cats = ['Patrick', 'Cinnomon', 'Maki']\n",
    "attributes = ['fluffy', 'fat', 'fabulous']\n",
    "\n",
    "for i, j in zip(cats, attributes):\n",
    "    print('My cat, {0}, is {1}.'.format(i, j))"
   ]
  },
  {
   "cell_type": "code",
   "execution_count": 53,
   "metadata": {},
   "outputs": [
    {
     "name": "stdout",
     "output_type": "stream",
     "text": [
      "['cat0', 'cat1', 'cat2', 'cat3', 'cat4', 'cat5', 'cat6', 'cat7', 'cat8', 'cat9']\n"
     ]
    }
   ],
   "source": [
    "print(['cat{0}'.format(i) for i in range(10)])"
   ]
  },
  {
   "cell_type": "markdown",
   "metadata": {},
   "source": [
    "<a id='3.3'></a>\n",
    "### 3.3 - While loop:"
   ]
  },
  {
   "cell_type": "code",
   "execution_count": 21,
   "metadata": {},
   "outputs": [
    {
     "name": "stdout",
     "output_type": "stream",
     "text": [
      "Pretend to be doing important work\n",
      "0 minute(s) pass...\n",
      "Pretend to be doing important work\n",
      "1 minute(s) pass...\n",
      "Pretend to be doing important work\n",
      "2 minute(s) pass...\n",
      "Pretend to be doing important work\n",
      "3 minute(s) pass...\n",
      "Pretend to be doing important work\n",
      "4 minute(s) pass...\n",
      "Party time!\n"
     ]
    }
   ],
   "source": [
    "import time\n",
    "\n",
    "prof_in_office = True\n",
    "minutes = 0\n",
    "\n",
    "while prof_in_office is True:\n",
    "    print('Pretend to be doing important work')\n",
    "    print('{0} minute(s) pass...'.format(minutes))\n",
    "    \n",
    "    time.sleep(1)\n",
    "    minutes += 1\n",
    "    \n",
    "    if minutes == 5:\n",
    "        prof_in_office = False\n",
    "print('Party time!')"
   ]
  },
  {
   "cell_type": "markdown",
   "metadata": {},
   "source": [
    "<a id='3.4'></a>\n",
    "### 3.4 - Loop control statements:"
   ]
  },
  {
   "cell_type": "code",
   "execution_count": 56,
   "metadata": {},
   "outputs": [
    {
     "name": "stdout",
     "output_type": "stream",
     "text": [
      "c\n",
      "a\n",
      "t\n",
      "s\n",
      " \n",
      "a\n",
      "r\n",
      "e\n",
      " \n",
      "a\n",
      "w\n",
      "e\n",
      "s\n",
      "o\n",
      "m\n",
      "e\n"
     ]
    }
   ],
   "source": [
    "for letter in 'chafhts arfhe hahwefhsfomhe': \n",
    "    if letter == 'h' or letter == 'f':\n",
    "         continue\n",
    "    print(letter)"
   ]
  },
  {
   "cell_type": "code",
   "execution_count": 58,
   "metadata": {},
   "outputs": [
    {
     "name": "stdout",
     "output_type": "stream",
     "text": [
      "h\n"
     ]
    }
   ],
   "source": [
    "for letter in 'chafhts arfhe hahwefhsfomhe': \n",
    "    if letter == 'h' or letter == 'f':\n",
    "         break\n",
    "            \n",
    "print(letter)"
   ]
  },
  {
   "cell_type": "code",
   "execution_count": 59,
   "metadata": {},
   "outputs": [
    {
     "name": "stdout",
     "output_type": "stream",
     "text": [
      "e\n"
     ]
    }
   ],
   "source": [
    "for letter in 'chafhts arfhe hahwefhsfomhe':\n",
    "    pass\n",
    "\n",
    "print(letter)"
   ]
  },
  {
   "cell_type": "markdown",
   "metadata": {},
   "source": [
    "<a id='3.5'></a>\n",
    "### 3.5 - Try except:"
   ]
  },
  {
   "cell_type": "code",
   "execution_count": 32,
   "metadata": {},
   "outputs": [
    {
     "name": "stdout",
     "output_type": "stream",
     "text": [
      "Ermahgerd, ehror!\n"
     ]
    }
   ],
   "source": [
    "try:\n",
    "    if 1 / 0 is 'pie':\n",
    "        print('Great success!')\n",
    "except ZeroDivisionError or OverflowError:\n",
    "    print('Ermahgerd, error!')"
   ]
  },
  {
   "cell_type": "markdown",
   "metadata": {},
   "source": [
    "<a id='4'></a>\n",
    "## 4 - Object-oriented programming:"
   ]
  },
  {
   "cell_type": "markdown",
   "metadata": {},
   "source": [
    "<a id='4.1'></a>\n",
    "### 4.1 - Functions:"
   ]
  },
  {
   "cell_type": "code",
   "execution_count": 41,
   "metadata": {},
   "outputs": [
    {
     "name": "stdout",
     "output_type": "stream",
     "text": [
      "5\n",
      "21\n",
      "Oh you are a special snowflake!\n"
     ]
    }
   ],
   "source": [
    "def calculate(a, b, operation):\n",
    "    if operation is 'add':\n",
    "        if a == 9 and b == 10:\n",
    "            return 21\n",
    "        else:\n",
    "            return a + b\n",
    "    elif operation is 'sub':\n",
    "        return a - b\n",
    "    elif operation is 'mul':\n",
    "        return a * b\n",
    "    elif operation is 'div':\n",
    "        try:\n",
    "            return a / b\n",
    "        except:\n",
    "            return 'Oh you are a special snowflake!'\n",
    "    else:\n",
    "        return 'I can\\'t do that!'\n",
    "\n",
    "print(calculate(7, 2, 'sub'))\n",
    "print(calculate(9, 10, 'add'))\n",
    "print(calculate(1, 0, 'div'))"
   ]
  },
  {
   "cell_type": "markdown",
   "metadata": {},
   "source": [
    "<a id='4.2'></a>\n",
    "### 4.2 - Classes:"
   ]
  },
  {
   "cell_type": "code",
   "execution_count": 60,
   "metadata": {},
   "outputs": [
    {
     "name": "stdout",
     "output_type": "stream",
     "text": [
      "Zebras can run up to 35 miles per hour!\n",
      "Cats eat meat.\n"
     ]
    }
   ],
   "source": [
    "class Animal:\n",
    "    def __init__(self, animal_name, cuteness, num_legs, run_speed, eats_meat):\n",
    "        self.animal_name = animal_name\n",
    "        self.cuteness = cuteness\n",
    "        self.num_legs = num_legs\n",
    "        self.run_speed = run_speed\n",
    "        self.eats_meat = eats_meat\n",
    "\n",
    "zebra = Animal('Zebra', 7, 4, 35, False)\n",
    "cat = Animal('Cat', 9001, 4, 30, True)\n",
    "penguin = Animal('Penguin', 9, 2, 4, True)\n",
    "\n",
    "print('{0}s can run up to {1} miles per hour!'.format(zebra.animal_name, zebra.run_speed))\n",
    "print('{0}s eat meat.'.format(cat.animal_name)) if cat.eats_meat else print('{0}s do not eat meat.'.format(cat.animal_name))"
   ]
  },
  {
   "cell_type": "markdown",
   "metadata": {},
   "source": [
    "<a id='4.3'></a>\n",
    "### 4.3 - Methods:"
   ]
  },
  {
   "cell_type": "code",
   "execution_count": 68,
   "metadata": {},
   "outputs": [
    {
     "name": "stdout",
     "output_type": "stream",
     "text": [
      "Before: Daniel's hair is 3 cm(s) long\n",
      "After: Daniel's hair is 2 cm(s) long\n",
      "\n",
      "Before: Jacqui's hair is 10 cm(s) long\n",
      "After: Jacqui's hair is 7 cm(s) long\n"
     ]
    }
   ],
   "source": [
    "class Person:\n",
    "    def __init__(self, name, is_male, hair_length):\n",
    "        self.name = name\n",
    "        self.is_male = is_male\n",
    "        self.hair_length = hair_length\n",
    "        \n",
    "    def barber(self):\n",
    "        self.hair_length -= 1\n",
    "    \n",
    "    def salon(self):\n",
    "        self.hair_length -= 3\n",
    "    \n",
    "    def get_haircut(self):\n",
    "        if self.is_male:\n",
    "            self.barber()\n",
    "        else:\n",
    "            self.salon()\n",
    "\n",
    "daniel = Person('Daniel', True, 3)\n",
    "print('Before: {0}\\'s hair is {1} cm(s) long'.format(daniel.name, daniel.hair_length))\n",
    "daniel.get_haircut()\n",
    "print('After: {0}\\'s hair is {1} cm(s) long\\n'.format(daniel.name, daniel.hair_length))\n",
    "\n",
    "jacqui = Person('Jacqui', False, 10)\n",
    "print('Before: {0}\\'s hair is {1} cm(s) long'.format(jacqui.name, jacqui.hair_length))\n",
    "jacqui.get_haircut()\n",
    "print('After: {0}\\'s hair is {1} cm(s) long'.format(jacqui.name, jacqui.hair_length))"
   ]
  },
  {
   "cell_type": "markdown",
   "metadata": {},
   "source": [
    "<a id='5'></a>\n",
    "## 5 - Packages you cannot live without:"
   ]
  },
  {
   "cell_type": "markdown",
   "metadata": {},
   "source": [
    "<a id='5.1'></a>\n",
    "### 5.1 - NumPy:\n",
    "NumPy is a general-purpose array-processing package designed to efficiently manipulate large multi-dimensional arrays of arbitrary records without sacrificing too much speed for small multi-dimensional arrays.\n",
    "\n",
    "User's guide: https://docs.scipy.org/doc/numpy-1.14.0/user/"
   ]
  },
  {
   "cell_type": "code",
   "execution_count": 88,
   "metadata": {},
   "outputs": [
    {
     "name": "stdout",
     "output_type": "stream",
     "text": [
      "A:\n",
      " [[1 2]\n",
      " [2 1]]\n",
      "Shape:  (2, 2)\n",
      "\n",
      "\n",
      "B:\n",
      " [[2 0 3]\n",
      " [3 4 2]]\n",
      "Shape:  (2, 3)\n",
      "\n",
      "2 * A:\n",
      " [[2 4]\n",
      " [4 2]]\n",
      "\n",
      "A . B:\n",
      " [[8 8 7]\n",
      " [7 4 8]]\n",
      "\n",
      " b^T\n",
      " [[2 3]\n",
      " [0 4]\n",
      " [3 2]]\n"
     ]
    }
   ],
   "source": [
    "import numpy as np\n",
    "\n",
    "A = np.array([[1,2], [2,1]])\n",
    "B = np.array([[2,0,3], [3,4,2]])\n",
    "\n",
    "print('A:\\n', A)\n",
    "print('Shape: ', A.shape)\n",
    "\n",
    "print('\\n')\n",
    "\n",
    "print('B:\\n', B)\n",
    "print('Shape: ', B.shape)\n",
    "\n",
    "print('\\n2 * A:\\n', 2 * A)\n",
    "print('\\nA . B:\\n', A.dot(B))\n",
    "print('\\n b^T\\n', B.transpose())"
   ]
  },
  {
   "cell_type": "markdown",
   "metadata": {},
   "source": [
    "<a id='5.2'></a>\n",
    "### 5.2 - Pandas:\n",
    "Pandas is an open source, BSD-licensed library providing high-performance, easy-to-use data structures and data analysis tools for the Python programming language.\n",
    "\n",
    "User's guide: https://pandas.pydata.org/pandas-docs/stable/tutorials.html"
   ]
  },
  {
   "cell_type": "code",
   "execution_count": 87,
   "metadata": {},
   "outputs": [
    {
     "name": "stdout",
     "output_type": "stream",
     "text": [
      "     A          B    C  D      E    F\n",
      "0  1.0 2013-01-02  1.0  3   test  foo\n",
      "1  1.0 2013-01-02  1.0  3  train  foo\n",
      "2  1.0 2013-01-02  1.0  3   test  foo\n",
      "3  1.0 2013-01-02  1.0  3  train  foo\n"
     ]
    }
   ],
   "source": [
    "import pandas as pd\n",
    "\n",
    "df = pd.DataFrame({'A' : 1.,\n",
    "                   'B' : pd.Timestamp('20130102'),\n",
    "                   'C' : pd.Series(1,index=list(range(4)),dtype='float32'),\n",
    "                   'D' : np.array([3] * 4,dtype='int32'),\n",
    "                   'E' : pd.Categorical([\"test\",\"train\",\"test\",\"train\"]),\n",
    "                   'F' : 'foo' })\n",
    "\n",
    "print(df)"
   ]
  },
  {
   "cell_type": "markdown",
   "metadata": {},
   "source": [
    "<a id='5.3'></a>\n",
    "### 5.3 - Matplotlib:\n",
    "Matplotlib strives to produce publication quality 2D graphics for interactive graphing, scientific publishing, user interface development and web application servers targeting multiple user interfaces and hardcopy output formats.\n",
    "\n",
    "User's guide: https://matplotlib.org/users/index.html"
   ]
  },
  {
   "cell_type": "code",
   "execution_count": 89,
   "metadata": {},
   "outputs": [
    {
     "data": {
      "image/png": "[encoded data removed]",
      "text/plain": [
       "<matplotlib.figure.Figure at 0x756dc18>"
      ]
     },
     "metadata": {},
     "output_type": "display_data"
    }
   ],
   "source": [
    "import matplotlib.pyplot as plt\n",
    "\n",
    "plt.plot([1,2,3,4], [1,4,9,16], 'ro')\n",
    "plt.axis([0, 6, 0, 20])\n",
    "plt.show()"
   ]
  },
  {
   "cell_type": "code",
   "execution_count": 91,
   "metadata": {},
   "outputs": [
    {
     "data": {
      "image/png": "[encoded data removed]",
      "text/plain": [
       "<matplotlib.figure.Figure at 0xaf036d8>"
      ]
     },
     "metadata": {},
     "output_type": "display_data"
    }
   ],
   "source": [
    "import numpy as np\n",
    "import matplotlib.pyplot as plt\n",
    "\n",
    "# Evenly sampled time at 200ms intervals\n",
    "t = np.arange(0., 5., 0.2)\n",
    "\n",
    "# Red dashes, blue squares and green triangles\n",
    "plt.plot(t, t, 'r--', t, t**2, 'bs', t, t**3, 'g^')\n",
    "plt.show()"
   ]
  },
  {
   "cell_type": "code",
   "execution_count": 90,
   "metadata": {},
   "outputs": [
    {
     "data": {
      "image/png": "[encoded data removed]",
      "text/plain": [
       "<matplotlib.figure.Figure at 0xade3128>"
      ]
     },
     "metadata": {},
     "output_type": "display_data"
    }
   ],
   "source": [
    "import numpy as np\n",
    "import matplotlib.pyplot as plt\n",
    "\n",
    "# Fixing random state for reproducibility\n",
    "np.random.seed(19680801)\n",
    "\n",
    "mu, sigma = 100, 15\n",
    "x = mu + sigma * np.random.randn(10000)\n",
    "\n",
    "# The histogram of the data\n",
    "n, bins, patches = plt.hist(x, 50, normed=1, facecolor='g', alpha=0.75)\n",
    "\n",
    "\n",
    "plt.xlabel('Smarts')\n",
    "plt.ylabel('Probability')\n",
    "plt.title('Histogram of IQ')\n",
    "plt.text(60, .025, r'$\\mu=100,\\ \\sigma=15$')\n",
    "plt.axis([40, 160, 0, 0.03])\n",
    "plt.grid(True)\n",
    "plt.show()"
   ]
  },
  {
   "cell_type": "markdown",
   "metadata": {},
   "source": [
    "<a id='5.4'></a>\n",
    "### 5.4 - SciPy:\n",
    "SciPy is an open-source software for mathematics, science, and engineering. The SciPy library depends on NumPy, which provides convenient and fast N-dimensional array manipulation.\n",
    "\n",
    "User's guide: https://docs.scipy.org/doc/scipy/reference/tutorial/"
   ]
  },
  {
   "cell_type": "code",
   "execution_count": 103,
   "metadata": {},
   "outputs": [
    {
     "name": "stdout",
     "output_type": "stream",
     "text": [
      "[[-9.28]\n",
      " [ 5.16]\n",
      " [ 0.76]]\n"
     ]
    }
   ],
   "source": [
    "import numpy as np\n",
    "from scipy import linalg\n",
    "\n",
    "# x + 3y + 5z = 10\n",
    "# 2x + 5y + z = 8\n",
    "# 2x + 3y + 8z = 3\n",
    "\n",
    "A = np.array([[1, 3, 5], [2, 5, 1], [2, 3, 8]])\n",
    "b = np.array([[10], [8], [3]])\n",
    "\n",
    "print(np.linalg.solve(A, b))"
   ]
  },
  {
   "cell_type": "code",
   "execution_count": 98,
   "metadata": {},
   "outputs": [
    {
     "name": "stdout",
     "output_type": "stream",
     "text": [
      "Optimization terminated successfully.\n",
      "         Current function value: 0.000000\n",
      "         Iterations: 339\n",
      "         Function evaluations: 571\n",
      " final_simplex: (array([[ 1.        ,  1.        ,  1.        ,  1.        ,  1.        ],\n",
      "       [ 1.        ,  1.        ,  1.        ,  1.        ,  1.        ],\n",
      "       [ 1.        ,  1.        ,  1.        ,  1.00000001,  1.00000001],\n",
      "       [ 1.        ,  1.        ,  1.        ,  1.        ,  1.        ],\n",
      "       [ 1.        ,  1.        ,  1.        ,  1.        ,  1.        ],\n",
      "       [ 1.        ,  1.        ,  1.        ,  1.        ,  0.99999999]]), array([  4.86115343e-17,   7.65182843e-17,   8.11395684e-17,\n",
      "         8.63263255e-17,   8.64080682e-17,   2.17927418e-16]))\n",
      "           fun: 4.8611534334221152e-17\n",
      "       message: 'Optimization terminated successfully.'\n",
      "          nfev: 571\n",
      "           nit: 339\n",
      "        status: 0\n",
      "       success: True\n",
      "             x: array([ 1.,  1.,  1.,  1.,  1.])\n"
     ]
    }
   ],
   "source": [
    "import numpy as np\n",
    "from scipy.optimize import minimize\n",
    "\n",
    "def rosen(x): #The Rosenbrock function: f(x)=sum_{i=1}^{N-1}100(x_{i+1}-x_{i}^2)^2+(1-x_{i})^2\n",
    "    return sum(100.0*(x[1:]-x[:-1]**2.0)**2.0 + (1-x[:-1])**2.0)\n",
    "\n",
    "x0 = np.array([1.3, 0.7, 0.8, 1.9, 1.2])\n",
    "\n",
    "res = minimize(rosen, x0, method='nelder-mead', options={'xtol': 1e-8, 'disp': True})\n",
    "print(res)"
   ]
  },
  {
   "cell_type": "markdown",
   "metadata": {},
   "source": [
    "<a id='5.5'></a>\n",
    "### 5.5 - Sklearn:\n",
    "Simple and efficient tools for data mining and data analysis. Accessible to everybody, and reusable in various contexts. Built on NumPy, SciPy, and matplotlib. Open source, commercially usable - BSD license.\n",
    "\n",
    "User's guide: http://scikit-learn.org/stable/user_guide.html"
   ]
  },
  {
   "cell_type": "code",
   "execution_count": 121,
   "metadata": {},
   "outputs": [
    {
     "name": "stdout",
     "output_type": "stream",
     "text": [
      "[0]\n"
     ]
    }
   ],
   "source": [
    "from sklearn import datasets, svm\n",
    "\n",
    "digits = datasets.load_digits()\n",
    "\n",
    "clf = svm.SVC(gamma=0.001, C=100.)\n",
    "clf.fit(digits.data[:-1], digits.target[:-1])  \n",
    "\n",
    "number = [[0,   0,   5,  13,   9,   1,   0,   0,\n",
    "           0,   0,  13,  15,  10,  15,   5,   0,\n",
    "           0,   3,  15,   2,   0,  11,   8,   0,\n",
    "           0,   4,  12,   0,   0,   8,   8,   0,\n",
    "           0,   5,   8,   0,   0,   9,   8,   0,\n",
    "           0,   4,  11,   0,   1,  12,   7,   0,\n",
    "           0,   2,  14,   5,  10,  12,   0,   0,\n",
    "           0,   0,   6,  13,  10,   0,   0,   0]]\n",
    "print(clf.predict(number))"
   ]
  },
  {
   "cell_type": "markdown",
   "metadata": {},
   "source": [
    "<a id='6'></a>\n",
    "## 6 - Online resources:"
   ]
  },
  {
   "cell_type": "markdown",
   "metadata": {},
   "source": [
    "|Type|Name|Use |Link|\n",
    "|-|\n",
    "|Website|Python documentation|syntax|https://docs.python.org/3/ |\n",
    "|Website|TutorialsPoint|syntax|https://www.tutorialspoint.com/python/index.htm |\n",
    "|Website|StackOverflow|syntax, debugging|https://stackoverflow.com/questions/tagged/python |\n",
    "|Website|GitHub|open source code|https://github.com/ |\n",
    "|YouTube|thenewboston|tutorials|https://www.youtube.com/channel/UCJbPGzawDH1njbqV-D5HqKw |\n",
    "|YouTube|sendex|tutorials|https://www.youtube.com/user/sentdex |\n",
    "|Book|Python Crash Course|tutorials|http://ap-n.us/books/Programming/Python%20Crash%20Course.pdf|\n",
    "|Book|Automate the Boring Stuff with Python|tutorials|http://1.droppdf.com/files/5iHzx/automate-the-boring-stuff-with-python-2015-.pdf |"
   ]
  }
 ],
 "metadata": {
  "kernelspec": {
   "display_name": "Python 3",
   "language": "python",
   "name": "python3"
  },
  "language_info": {
   "codemirror_mode": {
    "name": "ipython",
    "version": 3
   },
   "file_extension": ".py",
   "mimetype": "text/x-python",
   "name": "python",
   "nbconvert_exporter": "python",
   "pygments_lexer": "ipython3",
   "version": "3.6.3"
  }
 },
 "nbformat": 4,
 "nbformat_minor": 1
}
