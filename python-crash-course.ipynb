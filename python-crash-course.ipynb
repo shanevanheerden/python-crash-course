{
 "cells": [
  {
   "cell_type": "markdown",
   "metadata": {},
   "source": [
    "# Shane's Super Amazing Python 3 Syntax Crash Course:\n",
    "This notebook's aim is to introduce the basic syntax of the Python 3 programming langauge and instil a deep love of cats within the reader."
   ]
  },
  {
   "cell_type": "markdown",
   "metadata": {},
   "source": [
    "## Table of Contents:\n",
    "\n",
    "* [0 - Before we start](#0)\n",
    "\n",
    "\n",
    "* [1 - Data types](#1)\n",
    "    * [1.1 - Numerical literals](#1.1)\n",
    "    * [1.2 - Strings literals](#1.2)\n",
    "    * [1.3 - Boolean literals](#1.3)\n",
    "    * [1.4 - Special literals](#1.4)\n",
    "\n",
    "\n",
    "* [2 - Operators](#2)\n",
    "    * [2.1 - Arithmetic operators](#2.1)\n",
    "    * [2.2 - Comparison operators](#2.2)\n",
    "    * [2.3 - Assignment operators](#2.3)\n",
    "    * [2.4 - Logical operators](#2.4)\n",
    "    * [2.5 - Membership operators](#2.5)\n",
    "    * [2.6 - Identity operators](#2.6)\n",
    "\n",
    "\n",
    "* [3 - Data structures](#3)\n",
    "    * [3.1 - Lists](#3.1)\n",
    "    * [3.2 - Tuples](#3.2)\n",
    "    * [3.3 - Dictionaries](#3.3)\n",
    "    * [3.4 - Sets](#3.4)\n",
    "\n",
    "\n",
    " * [4 - Control structures](#4)\n",
    "    * [4.1 - If elif else](#4.1)\n",
    "    * [4.2 - For loop](#4.2)\n",
    "    * [4.3 - While loop](#4.3)\n",
    "    * [4.4 - Loop control statements](#4.4)\n",
    "    * [4.5 - Try except](#4.5)\n",
    "\n",
    "\n",
    " * [5 - Object-oriented design](#5)\n",
    "    * [5.1 - Functions](#5.1)\n",
    "    * [5.2 - Classes](#5.2)\n",
    "    * [5.3 - Methods](#5.3)\n",
    "    * [5.4 - Inheritance](#5.4)\n",
    "\n",
    " * [6 - Online resources](#6)\n",
    " \n",
    " ![title](https://images.immediate.co.uk/volatile/sites/4/2018/08/iStock_000044061370_Medium-fa5f8aa.jpg?quality=45&crop=5px,17px,929px,400px&resize=960,413.png)"
   ]
  },
  {
   "cell_type": "markdown",
   "metadata": {},
   "source": [
    "<a id='0'></a>\n",
    "## 0 - Before we start:\n",
    "Before we start with with this super amazing Python syntax crash-course, check out these three videos. The first video gives a high level overview of the Python programming langage and what you can do with it. The second video shows you how to install Anaconda — a free open-source distribution of Python. The third is a video of a naughty cat."
   ]
  },
  {
   "cell_type": "markdown",
   "metadata": {},
   "source": [
    "|Number|Video|Link|\n",
    "|---|---|---|\n",
    "|1|What is Python and why you must learn it|https://www.youtube.com/watch?v=Y8Tko2YC5hA|\n",
    "|2|Installing Anaconda|https://www.youtube.com/watch?v=5mDYijMfSzs|\n",
    "|3|A naughty cat|https://www.youtube.com/watch?v=UoUEQYjYgf4|"
   ]
  },
  {
   "cell_type": "markdown",
   "metadata": {},
   "source": [
    "Great — now that you're up to speed, this thing you're in right now is called a Jupyter Notebook, which is an open-source web application that allows you to create and share documents that contain live code, equations, visualizations and narrative text. Now lets write your first program:"
   ]
  },
  {
   "cell_type": "code",
   "execution_count": 2,
   "metadata": {},
   "outputs": [
    {
     "name": "stdout",
     "output_type": "stream",
     "text": [
      "Hello cats of the world.\n"
     ]
    }
   ],
   "source": [
    "print('Hello cats of the world.')"
   ]
  },
  {
   "cell_type": "markdown",
   "metadata": {},
   "source": [
    "Great success! This is a basic print statement greeting the cats of the world."
   ]
  },
  {
   "cell_type": "markdown",
   "metadata": {},
   "source": [
    "![title](https://s3.amazonaws.com/peoplepng/wp-content/uploads/2018/06/04134727/Adorable-Cat-PNG.png)\n",
    "<a id='1'></a>\n",
    "## 1 - Data types:\n",
    "We begin our discussion with the basic data types that are built into Python. Python sets the variable type based on the value that is assigned to it. Unlike more riggers languages, Python will change the variable type if the variable value is set to another value."
   ]
  },
  {
   "cell_type": "markdown",
   "metadata": {},
   "source": [
    "<a id='1.1'></a>\n",
    "### 1.1 - Numeric literals:\n",
    "Integers, floating point numbers and complex numbers falls under Python numbers category. They are defined as $int$, $float$ and $complex$ class in Python. We can use the $type()$ function to know which class a variable or a value belongs to and the $isinstance()$ function to check if an object belongs to a particular class.\n",
    "\n",
    "More info at: https://www.youtube.com/watch?v=_87ASgggEg0&list=PLi01XoE8jYohWFPpC17Z-wWhPOSuh8Er-&index=6&t=0s"
   ]
  },
  {
   "cell_type": "code",
   "execution_count": 3,
   "metadata": {},
   "outputs": [
    {
     "name": "stdout",
     "output_type": "stream",
     "text": [
      "5 is of type <class 'int'>\n",
      "2.0 is of type <class 'float'>\n",
      "(1+2j) is complex number? True\n"
     ]
    }
   ],
   "source": [
    "a = 5\n",
    "print(a, \"is of type\", type(a))\n",
    "\n",
    "a = 2.0\n",
    "print(a, \"is of type\", type(a))\n",
    "\n",
    "a = 1+2j\n",
    "print(a, \"is complex number?\", isinstance(1+2j,complex))"
   ]
  },
  {
   "cell_type": "markdown",
   "metadata": {},
   "source": [
    "#### 1.1.1 - Integers:\n",
    "Integers can be of any length, it is only limited by the memory available."
   ]
  },
  {
   "cell_type": "code",
   "execution_count": 27,
   "metadata": {},
   "outputs": [
    {
     "name": "stdout",
     "output_type": "stream",
     "text": [
      "1234567890123456789\n"
     ]
    }
   ],
   "source": [
    "a = 1234567890123456789\n",
    "print(a)"
   ]
  },
  {
   "cell_type": "markdown",
   "metadata": {},
   "source": [
    "#### 1.1.2 - Floats:\n",
    "A floating point number is accurate up to 15 decimal places. Integer and floating points are separated by decimal points. 1 is integer, 1.0 is floating point number."
   ]
  },
  {
   "cell_type": "code",
   "execution_count": 28,
   "metadata": {},
   "outputs": [
    {
     "name": "stdout",
     "output_type": "stream",
     "text": [
      "0.12345678901234568\n"
     ]
    }
   ],
   "source": [
    "b = 0.1234567890123456789\n",
    "print(b)"
   ]
  },
  {
   "cell_type": "markdown",
   "metadata": {},
   "source": [
    "#### 1.1.3 - Complex numbers:\n",
    "Complex numbers are written in the form, $x + yj$, where $x$ is the real part and $y$ is the imaginary part."
   ]
  },
  {
   "cell_type": "code",
   "execution_count": 29,
   "metadata": {},
   "outputs": [
    {
     "name": "stdout",
     "output_type": "stream",
     "text": [
      "(1+2j)\n"
     ]
    }
   ],
   "source": [
    "c = 1 + 2j\n",
    "print(c)"
   ]
  },
  {
   "cell_type": "markdown",
   "metadata": {},
   "source": [
    "<a id='1.2'></a>\n",
    "### 1.2 - String literals\n",
    "String is sequence of Unicode characters. We can use single quotes '' or double quotes \"\" to represent strings. Multi-line strings can be denoted using triple quotes, ''' or \"\"\".\n",
    "\n",
    "More info at: https://www.youtube.com/watch?v=iAzShkKzpJo&list=PLi01XoE8jYohWFPpC17Z-wWhPOSuh8Er-&index=4&t=0s"
   ]
  },
  {
   "cell_type": "markdown",
   "metadata": {},
   "source": [
    "#### 1.2.1 - String formatting:\n",
    "There are three ways in which you can format a string in Python.\n",
    "\n",
    "-  The first is by adding the separate strings together\n",
    "-  The second is by using the $\\%$ character and specifying the variable format\n",
    "-  The third (and most correct) is by using the $.format()$ method and curly brackets within the string"
   ]
  },
  {
   "cell_type": "code",
   "execution_count": 7,
   "metadata": {
    "scrolled": true
   },
   "outputs": [
    {
     "name": "stdout",
     "output_type": "stream",
     "text": [
      "Mr Meowington Buttons is 3 years old!\n",
      "Mr Meowington Buttons is 3 years old!\n",
      "Mr Meowington Buttons is 3 years old!\n"
     ]
    }
   ],
   "source": [
    "first_name = 'Meowington'\n",
    "last_name = 'Buttons'\n",
    "age = 3\n",
    "\n",
    "print('Mr ' + first_name + ' ' + last_name + ' is ' + str(age) + ' years old!')\n",
    "print('Mr %s %s is %d years old!' % (first_name, last_name, age))\n",
    "print('Mr {0} {1} is {2} years old!'.format(first_name, last_name, age))"
   ]
  },
  {
   "cell_type": "markdown",
   "metadata": {},
   "source": [
    "#### 1.2.2 - String escape characters:\n",
    "-  You can use escape characters to define new lines with $\\backslash n$ and tabs with $\\backslash t$."
   ]
  },
  {
   "cell_type": "code",
   "execution_count": 8,
   "metadata": {},
   "outputs": [
    {
     "name": "stdout",
     "output_type": "stream",
     "text": [
      "I stepped on a corn flake,\n",
      "now I'm a\tcereal killer.\n"
     ]
    }
   ],
   "source": [
    "sentence = 'I stepped on a corn flake,\\nnow I\\'m a\\tcereal killer.'\n",
    "print(sentence)"
   ]
  },
  {
   "cell_type": "markdown",
   "metadata": {},
   "source": [
    "#### 1.2.3 - String operators:\n",
    "-  Strings can be accessed as a whole string, or a substring of the complete variable using square brackets\n",
    "-  Specific mathematical operators can also be applied to strings"
   ]
  },
  {
   "cell_type": "code",
   "execution_count": 9,
   "metadata": {},
   "outputs": [
    {
     "name": "stdout",
     "output_type": "stream",
     "text": [
      "Meow\n",
      "Cats are really really really really really awesome.\n"
     ]
    }
   ],
   "source": [
    "name = 'Meowingtons'\n",
    "print(name[:4])\n",
    "\n",
    "word = 'really '\n",
    "print('Cats are ' + word*5 + 'awesome.')"
   ]
  },
  {
   "cell_type": "markdown",
   "metadata": {},
   "source": [
    "#### 1.2.4 - Raw strings:\n",
    "-  If your string is a file path, place an 'r' just before the first quote to define it as a raw string — this will stop Python from interpreting any part of the string as escape characters"
   ]
  },
  {
   "cell_type": "code",
   "execution_count": 10,
   "metadata": {},
   "outputs": [
    {
     "name": "stdout",
     "output_type": "stream",
     "text": [
      "C:\\Users\\Shane\\Pictures\\cat496.png\n"
     ]
    }
   ],
   "source": [
    "path = r'C:\\Users\\Shane\\Pictures\\cat496.png'\n",
    "print(path)"
   ]
  },
  {
   "cell_type": "markdown",
   "metadata": {},
   "source": [
    "<a id='1.3'></a>\n",
    "### 1.3 - Boolean literals:\n",
    "A Boolean literal can have any of the two values: $True$ or $False$. In Python, $True$ has the value as 1 and $False$ the value of 0.\n",
    "\n",
    "More info at: https://www.youtube.com/watch?v=9OK32jb_TdI&list=PLi01XoE8jYohWFPpC17Z-wWhPOSuh8Er-&index=10&t=0s"
   ]
  },
  {
   "cell_type": "code",
   "execution_count": 11,
   "metadata": {},
   "outputs": [
    {
     "name": "stdout",
     "output_type": "stream",
     "text": [
      "a: 5\n",
      "b: 10\n"
     ]
    }
   ],
   "source": [
    "a = True + 4\n",
    "b = False + 10\n",
    "\n",
    "print(\"a:\", a)\n",
    "print(\"b:\", b)"
   ]
  },
  {
   "cell_type": "markdown",
   "metadata": {},
   "source": [
    "<a id='1.4'></a>\n",
    "### 1.4 - Special literals:\n",
    "Python contains one special literal, namely $None$. We use it to specify that a field has not yet been created."
   ]
  },
  {
   "cell_type": "code",
   "execution_count": 12,
   "metadata": {},
   "outputs": [
    {
     "name": "stdout",
     "output_type": "stream",
     "text": [
      "Cats adopted: None\n"
     ]
    }
   ],
   "source": [
    "cats_adopted = None\n",
    "\n",
    "print('Cats adopted:', cats_adopted)"
   ]
  },
  {
   "cell_type": "markdown",
   "metadata": {},
   "source": [
    "![title](http://wallperio.com/data/out/50/cats-pics_596496684.jpg)\n",
    "<a id='2'></a>\n",
    "## 2 - Operators:\n",
    "Operators are special symbols in Python that carry out arithmetic or logical computation. The value that the operator operates on is called the operand.\n",
    "\n",
    "More info at: https://www.youtube.com/watch?v=Aj8FQRIHJSc&list=PLi01XoE8jYohWFPpC17Z-wWhPOSuh8Er-&index=8&t=0s"
   ]
  },
  {
   "cell_type": "markdown",
   "metadata": {},
   "source": [
    "<a id='2.1'></a>\n",
    "### 2.1 - Arithmetic operators:\n",
    "An arithmetic operator is a mathematical function that takes two operands and performs a calculation on them.\n",
    "\n",
    "-  Note that Python uses ** for exponentiation and not ^ as in most other languages\n",
    "-  Floor division returns only the quotient whereas modulus returns only the remainder of division"
   ]
  },
  {
   "cell_type": "code",
   "execution_count": 13,
   "metadata": {},
   "outputs": [
    {
     "name": "stdout",
     "output_type": "stream",
     "text": [
      "Addition: 9\n",
      "Subtraction: 5\n",
      "Multiplication: 14\n",
      "Division: 3.5\n",
      "Exponent: 49\n",
      "Floor division: 3\n",
      "Modulus: 1\n"
     ]
    }
   ],
   "source": [
    "print('Addition:', 7 + 2)\n",
    "print('Subtraction:', 7 - 2)\n",
    "print('Multiplication:', 7 * 2)\n",
    "print('Division:', 7 / 2)\n",
    "print('Exponent:', 7 ** 2)\n",
    "print('Floor division:', 7 // 2)\n",
    "print('Modulus:', 7 % 2)"
   ]
  },
  {
   "cell_type": "markdown",
   "metadata": {},
   "source": [
    "<a id='2.2'></a>\n",
    "### 2.2 - Comparison operators:\n",
    "The basic comparison operations in Python. Pretty standard like in most other languages."
   ]
  },
  {
   "cell_type": "code",
   "execution_count": 14,
   "metadata": {},
   "outputs": [
    {
     "name": "stdout",
     "output_type": "stream",
     "text": [
      "a equals b: False\n",
      "a not equal to b: True\n",
      "a greater than b: False\n",
      "a less than b: True\n",
      "a greater than or equal to b: False\n",
      "a less than b or equal to b: True\n"
     ]
    }
   ],
   "source": [
    "a = 10\n",
    "b = 20\n",
    "\n",
    "print('a equals b:', a == b)\n",
    "print('a not equal to b:', a != b)\n",
    "print('a greater than b:', a > b)\n",
    "print('a less than b:', a < b)\n",
    "print('a greater than or equal to b:', a >= b)\n",
    "print('a less than b or equal to b:', a <= b)"
   ]
  },
  {
   "cell_type": "markdown",
   "metadata": {},
   "source": [
    "<a id='2.2'></a>\n",
    "### 2.2 - Assignment operators:\n",
    "An assignment operator is the operator used to assign a new value to a variable, property, event or indexer element in a programming language. All arithmetic operators from §2.1 can be used to update the existing value of a variable."
   ]
  },
  {
   "cell_type": "code",
   "execution_count": 15,
   "metadata": {},
   "outputs": [
    {
     "name": "stdout",
     "output_type": "stream",
     "text": [
      "Value of c: 30\n",
      "Value of c: 40\n",
      "Value of c: 20\n",
      "Value of c: 60\n",
      "Value of c: 30.0\n",
      "Value of c: 2.0\n",
      "Value of c: 16.0\n",
      "Value of c: 5.0\n"
     ]
    }
   ],
   "source": [
    "a = 10\n",
    "b = 20\n",
    "\n",
    "c = a + b\n",
    "print('Value of c:', c)\n",
    "c += 10\n",
    "print('Value of c:', c)\n",
    "c -= 20\n",
    "print('Value of c:', c)\n",
    "c *= 3\n",
    "print('Value of c:', c)\n",
    "c /= 2\n",
    "print('Value of c:', c)\n",
    "c %= 7\n",
    "print('Value of c:', c)\n",
    "c **= 4\n",
    "print('Value of c:', c)\n",
    "c //= 3\n",
    "print('Value of c:', c)"
   ]
  },
  {
   "cell_type": "markdown",
   "metadata": {},
   "source": [
    "<a id='2.3'></a>\n",
    "### 2.3 - Logical operators:\n",
    "A logical operator is used to test whether a certain relationship between two operands is true or false. The terms $and$, $or$, and $not$ are the logical operators in Python. Python uses plain english as apposed to the syntax &&, || or ! used in other langages."
   ]
  },
  {
   "cell_type": "code",
   "execution_count": 16,
   "metadata": {},
   "outputs": [
    {
     "name": "stdout",
     "output_type": "stream",
     "text": [
      "a AND b: False\n",
      "a OR b: True\n",
      "NOT b True\n"
     ]
    }
   ],
   "source": [
    "a = True\n",
    "b = False\n",
    "\n",
    "print('a AND b:', a and b)\n",
    "print('a OR b:', a or b)\n",
    "print('NOT b', not b)"
   ]
  },
  {
   "cell_type": "markdown",
   "metadata": {},
   "source": [
    "<a id='2.4'></a>\n",
    "### 2.4 - Membership operators:\n",
    "Membership operators are used to test whether a value or variable is found in a sequence. The terms $in$ and $not~in$ are the membership operators in Python.\n",
    "\n",
    "-  The value of $True$ is returned because the value of $a$ is present in $mylist$.\n",
    "-  The $not$ operator negates any $True$ statement."
   ]
  },
  {
   "cell_type": "code",
   "execution_count": 17,
   "metadata": {},
   "outputs": [
    {
     "name": "stdout",
     "output_type": "stream",
     "text": [
      "a IN list: True\n",
      "a NOT IN list: False\n"
     ]
    }
   ],
   "source": [
    "a = 3\n",
    "mylist = [1, 2, 3, 4, 5]\n",
    "\n",
    "print('a IN list:', a in mylist)\n",
    "print('a NOT IN list:', a not in mylist)"
   ]
  },
  {
   "cell_type": "markdown",
   "metadata": {},
   "source": [
    "<a id='2.5'></a>\n",
    "### 2.5 - Identity operators:\n",
    "Identity operators are used to check if two values (or variables) are located on the same part of the memory. Two variables that are equal does not imply that they are identical. The terms $is$ and $is~not$ are the identity operators in Python.\n",
    "\n",
    "-  Here, we see that x1 and y1 are integers of same values, so they are equal as well as identical — same is the case with x2 and y2 (strings)\n",
    "-  But x3 and y3 are list — they are equal but not identical (i.e. they are stored separately in memory even though they are equal)"
   ]
  },
  {
   "cell_type": "code",
   "execution_count": 18,
   "metadata": {},
   "outputs": [
    {
     "name": "stdout",
     "output_type": "stream",
     "text": [
      "False\n",
      "True\n",
      "False\n"
     ]
    }
   ],
   "source": [
    "x1 = 5\n",
    "y1 = 5\n",
    "x2 = 'Hello'\n",
    "y2 = 'Hello'\n",
    "x3 = [1,2,3]\n",
    "y3 = [1,2,3]\n",
    "\n",
    "print(x1 is not y1)\n",
    "print(x2 is y2)\n",
    "print(x3 is y3)"
   ]
  },
  {
   "cell_type": "markdown",
   "metadata": {},
   "source": [
    "![title](http://oromoctospca.com/images/senior-cat.png)\n",
    "<a id='3'></a>\n",
    "## 3 - Data structures:\n",
    "Data structures are basically just that — they are structures which can hold some data together. In other words, they are used to store a collection of related data. There are four built-in data structures in Python:\n",
    "1.  Lists\n",
    "2.  Tuples\n",
    "3.  Dictionaries\n",
    "4.  Sets"
   ]
  },
  {
   "cell_type": "markdown",
   "metadata": {},
   "source": [
    "<a id='3.1'></a>\n",
    "### 3.1 - Lists:\n",
    "List is an ordered sequence of items. It is one of the most used datatype in Python and is very flexible. All the items in a list do not need to be of the same type. Declaring a list is pretty straight forward. Items separated by commas are enclosed within square brackets $[~]$. The elements in a list are indexed according to a definite sequence and the indexing of a list is done with 0 being the first index.\n",
    "\n",
    "More info at: https://www.youtube.com/watch?v=ohCDWZgNIU0&list=PLi01XoE8jYohWFPpC17Z-wWhPOSuh8Er-&index=15&t=0s"
   ]
  },
  {
   "cell_type": "markdown",
   "metadata": {},
   "source": [
    "#### 3.1.1 - List methods:\n",
    "A list is an object in Python, and thus has multiple associated methods."
   ]
  },
  {
   "cell_type": "code",
   "execution_count": 19,
   "metadata": {},
   "outputs": [
    {
     "name": "stdout",
     "output_type": "stream",
     "text": [
      "List methods: ['__add__', '__class__', '__contains__', '__delattr__', '__delitem__', '__dir__', '__doc__', '__eq__', '__format__', '__ge__', '__getattribute__', '__getitem__', '__gt__', '__hash__', '__iadd__', '__imul__', '__init__', '__init_subclass__', '__iter__', '__le__', '__len__', '__lt__', '__mul__', '__ne__', '__new__', '__reduce__', '__reduce_ex__', '__repr__', '__reversed__', '__rmul__', '__setattr__', '__setitem__', '__sizeof__', '__str__', '__subclasshook__', 'append', 'clear', 'copy', 'count', 'extend', 'index', 'insert', 'pop', 'remove', 'reverse', 'sort']\n"
     ]
    }
   ],
   "source": [
    "print('List methods:', dir(list))"
   ]
  },
  {
   "cell_type": "markdown",
   "metadata": {},
   "source": [
    "#### 3.1.2 - List operations:\n",
    "-  We can get the length of a list using the built-in function $len()$.\n",
    "-  We access the second element in our $cat$_$names$ list (Python lists start at index of 0).\n",
    "-  We check if the string $'Maki'$ is in our $cat$_$names$ list."
   ]
  },
  {
   "cell_type": "code",
   "execution_count": 20,
   "metadata": {},
   "outputs": [
    {
     "name": "stdout",
     "output_type": "stream",
     "text": [
      "I have 3 cats!\n",
      "Patrick is my favourite cat.\n",
      "True\n"
     ]
    }
   ],
   "source": [
    "cat_names = ['Cinnamon', 'Patrick', 'Maki']\n",
    "\n",
    "print('I have', len(cat_names), 'cats!')\n",
    "print(cat_names[1], 'is my favourite cat.')\n",
    "print('Maki' in cat_names)"
   ]
  },
  {
   "cell_type": "markdown",
   "metadata": {},
   "source": [
    "#### 3.1.3 - List functions:\n",
    "-  We can get the minimum value in a list using the built-in function $min()$.\n",
    "-  We can get the maximum value in a list using the built-in function $max()$.\n",
    "-  We can use the method $.count()$ to count the occurances of the value 1 in $mylist$.\n",
    "-  We can insert the string $'five'$ into $my_list$ at index value 4 with the $.insert()$ method.\n",
    "-  We can append the value 34 onto $mylist$ with the $.append()$ method.\n",
    "-  We can concatinate a new list to $mylist$ with the $.extend()$ method.\n",
    "-  We can reverse the order of $mylist$ with the $.reverse()$ method."
   ]
  },
  {
   "cell_type": "code",
   "execution_count": 21,
   "metadata": {
    "scrolled": true
   },
   "outputs": [
    {
     "name": "stdout",
     "output_type": "stream",
     "text": [
      "Minimum: 1\n",
      "Maximum: 21\n",
      "Count: 2\n",
      "List after insert: [1, 1, 2, 3, 'five', 8, 13, 21]\n",
      "List after append: [1, 1, 2, 3, 'five', 8, 13, 21, 34]\n",
      "List after extend: [1, 1, 2, 3, 'five', 8, 13, 21, 34, 55, 89, 144]\n",
      "List after reverse: [144, 89, 55, 34, 21, 13, 8, 'five', 3, 2, 1, 1]\n"
     ]
    }
   ],
   "source": [
    "my_list = [1, 1, 2, 3, 8, 13, 21]\n",
    "\n",
    "print('Minimum:', min(my_list))\n",
    "print('Maximum:', max(my_list))\n",
    "print('Count:', my_list.count(1))\n",
    "\n",
    "my_list.insert(4, 'five')\n",
    "print('List after insert:', my_list)\n",
    "my_list.append(34)\n",
    "print('List after append:', my_list)\n",
    "my_list.extend([55, 89, 144])\n",
    "print('List after extend:', my_list)\n",
    "my_list.reverse()\n",
    "print('List after reverse:', my_list)"
   ]
  },
  {
   "cell_type": "markdown",
   "metadata": {},
   "source": [
    "#### 3.1.4 - Remove vs delete vs pop:\n",
    "-  The $.remove()$ method removes a specified value from the $a$_$side$ list.\n",
    "-  The $del$ operator deletes a value at a specified index from the $a$_$side$ list.\n",
    "-  The $.pop$ method removes and returns the value at a specified index from the $a$_$side$ list."
   ]
  },
  {
   "cell_type": "code",
   "execution_count": 22,
   "metadata": {
    "scrolled": true
   },
   "outputs": [
    {
     "name": "stdout",
     "output_type": "stream",
     "text": [
      "['Ryan', 'Hano', 'Mattie', 'Johan', 'Shane']\n",
      "['Ryan', 'Hano', 'Mattie', 'Johan']\n",
      "Mattie\n",
      "['Ryan', 'Hano', 'Johan']\n"
     ]
    }
   ],
   "source": [
    "a_side = ['Ryan', 'Hano', 'Stephan', 'Mattie', 'Johan', 'Shane']\n",
    "\n",
    "a_side.remove('Stephan')\n",
    "print(a_side)\n",
    "\n",
    "del a_side[-1]\n",
    "print(a_side)\n",
    "\n",
    "print(a_side.pop(2))\n",
    "print(a_side)"
   ]
  },
  {
   "cell_type": "markdown",
   "metadata": {},
   "source": [
    "<a id='3.2'></a>\n",
    "### 3.2 - Tuples:\n",
    "Tuple is an ordered sequence of items same as list.The only difference is that tuples are immutable. Tuples once created cannot be modified. Tuples are used to write-protect data and are usually faster than list as it cannot change dynamically. It is defined within parentheses $(~)$ where items are separated by commas.\n",
    "\n",
    "More info at: https://www.youtube.com/watch?v=NI26dqhs2Rk&list=PLi01XoE8jYohWFPpC17Z-wWhPOSuh8Er-&index=17&t=0s"
   ]
  },
  {
   "cell_type": "markdown",
   "metadata": {},
   "source": [
    "#### 3.2.1 - Tuple methods:\n",
    "Again, a tuple is an object in Python, and thus has multiple associated methods."
   ]
  },
  {
   "cell_type": "code",
   "execution_count": 23,
   "metadata": {},
   "outputs": [
    {
     "name": "stdout",
     "output_type": "stream",
     "text": [
      "Tuple methods: ['__add__', '__class__', '__contains__', '__delattr__', '__dir__', '__doc__', '__eq__', '__format__', '__ge__', '__getattribute__', '__getitem__', '__getnewargs__', '__gt__', '__hash__', '__init__', '__init_subclass__', '__iter__', '__le__', '__len__', '__lt__', '__mul__', '__ne__', '__new__', '__reduce__', '__reduce_ex__', '__repr__', '__rmul__', '__setattr__', '__sizeof__', '__str__', '__subclasshook__', 'count', 'index']\n"
     ]
    }
   ],
   "source": [
    "print('Tuple methods:', dir(tuple))"
   ]
  },
  {
   "cell_type": "markdown",
   "metadata": {},
   "source": [
    "#### 3.2.2 - Lists vs tuples:\n",
    "The differences between tuples and lists are that tuples cannot be changed (unlike lists) and tuples use parentheses, whereas lists use square brackets.\n",
    "\n",
    "-  We can change the value at index 0 in a list.\n",
    "-  If we try and do the same with a tuple, we get an error."
   ]
  },
  {
   "cell_type": "code",
   "execution_count": 24,
   "metadata": {},
   "outputs": [
    {
     "name": "stdout",
     "output_type": "stream",
     "text": [
      "['Marno', 'Hano', 'Stephan', 'Mattie', 'Johan', 'Shane']\n"
     ]
    }
   ],
   "source": [
    "a_side_list = ['Ryan', 'Hano', 'Stephan', 'Mattie', 'Johan', 'Shane']\n",
    "\n",
    "a_side_list[0] = 'Marno'\n",
    "\n",
    "print(a_side_list)"
   ]
  },
  {
   "cell_type": "code",
   "execution_count": 25,
   "metadata": {},
   "outputs": [
    {
     "ename": "TypeError",
     "evalue": "'tuple' object does not support item assignment",
     "output_type": "error",
     "traceback": [
      "\u001b[1;31m---------------------------------------------------------------------------\u001b[0m",
      "\u001b[1;31mTypeError\u001b[0m                                 Traceback (most recent call last)",
      "\u001b[1;32m<ipython-input-25-562790b18e32>\u001b[0m in \u001b[0;36m<module>\u001b[1;34m\u001b[0m\n\u001b[0;32m      1\u001b[0m \u001b[0ma_side_tuple\u001b[0m \u001b[1;33m=\u001b[0m \u001b[1;33m(\u001b[0m\u001b[1;34m'Ryan'\u001b[0m\u001b[1;33m,\u001b[0m \u001b[1;34m'Hano'\u001b[0m\u001b[1;33m,\u001b[0m \u001b[1;34m'Stephan'\u001b[0m\u001b[1;33m,\u001b[0m \u001b[1;34m'Mattie'\u001b[0m\u001b[1;33m,\u001b[0m \u001b[1;34m'Johan'\u001b[0m\u001b[1;33m,\u001b[0m \u001b[1;34m'Shane'\u001b[0m\u001b[1;33m)\u001b[0m\u001b[1;33m\u001b[0m\u001b[1;33m\u001b[0m\u001b[0m\n\u001b[0;32m      2\u001b[0m \u001b[1;33m\u001b[0m\u001b[0m\n\u001b[1;32m----> 3\u001b[1;33m \u001b[0ma_side_tuple\u001b[0m\u001b[1;33m[\u001b[0m\u001b[1;36m0\u001b[0m\u001b[1;33m]\u001b[0m \u001b[1;33m=\u001b[0m \u001b[1;34m'Marno'\u001b[0m\u001b[1;33m\u001b[0m\u001b[1;33m\u001b[0m\u001b[0m\n\u001b[0m\u001b[0;32m      4\u001b[0m \u001b[1;33m\u001b[0m\u001b[0m\n\u001b[0;32m      5\u001b[0m \u001b[0mprint\u001b[0m\u001b[1;33m(\u001b[0m\u001b[0ma_side_tuple\u001b[0m\u001b[1;33m)\u001b[0m\u001b[1;33m\u001b[0m\u001b[1;33m\u001b[0m\u001b[0m\n",
      "\u001b[1;31mTypeError\u001b[0m: 'tuple' object does not support item assignment"
     ]
    }
   ],
   "source": [
    "a_side_tuple = ('Ryan', 'Hano', 'Stephan', 'Mattie', 'Johan', 'Shane')\n",
    "\n",
    "a_side_tuple[0] = 'Marno'\n",
    "\n",
    "print(a_side_tuple)"
   ]
  },
  {
   "cell_type": "markdown",
   "metadata": {},
   "source": [
    "<a id='3.3'></a>\n",
    "### 3.3 - Dictionaries:\n",
    "Dictionary is an unordered collection of key-value pairs. It is generally used when we have a huge amount of data. Dictionaries are optimized for retrieving data. We must know the key to retrieve the value. In Python, dictionaries are defined within braces $\\{~\\}$ with each item being a pair in the form $key:value$. Key and value can be of any type.\n",
    "\n",
    "More info at: https://www.youtube.com/watch?v=XCcpzWs-CI4&list=PLi01XoE8jYohWFPpC17Z-wWhPOSuh8Er-&index=16&t=0s"
   ]
  },
  {
   "cell_type": "markdown",
   "metadata": {},
   "source": [
    "#### 3.3.1 - Dictionary methods:\n",
    "Again, a dictionary is an object in Python, and thus has multiple associated methods."
   ]
  },
  {
   "cell_type": "code",
   "execution_count": 30,
   "metadata": {},
   "outputs": [
    {
     "name": "stdout",
     "output_type": "stream",
     "text": [
      "Dictionary methods: ['__class__', '__contains__', '__delattr__', '__delitem__', '__dir__', '__doc__', '__eq__', '__format__', '__ge__', '__getattribute__', '__getitem__', '__gt__', '__hash__', '__init__', '__init_subclass__', '__iter__', '__le__', '__len__', '__lt__', '__ne__', '__new__', '__reduce__', '__reduce_ex__', '__repr__', '__setattr__', '__setitem__', '__sizeof__', '__str__', '__subclasshook__', 'clear', 'copy', 'fromkeys', 'get', 'items', 'keys', 'pop', 'popitem', 'setdefault', 'update', 'values']\n"
     ]
    }
   ],
   "source": [
    "print('Dictionary methods:', dir(dict))"
   ]
  },
  {
   "cell_type": "markdown",
   "metadata": {},
   "source": [
    "#### 3.3.1 - Accessing values in a dictionary:\n",
    "To access dictionary elements, you can use the familiar square brackets along with the key to obtain its value."
   ]
  },
  {
   "cell_type": "code",
   "execution_count": 46,
   "metadata": {},
   "outputs": [
    {
     "name": "stdout",
     "output_type": "stream",
     "text": [
      "Patrick weighs 7 kgs!\n"
     ]
    }
   ],
   "source": [
    "cat_weights = {'Cinnamon': 12, 'Patrick': 7, 'Maki': 9}\n",
    "\n",
    "cat_of_interest = 'Patrick'\n",
    "\n",
    "print('{0} weighs {1} kgs!'.format(cat_of_interest, cat_weights[cat_of_interest]))"
   ]
  },
  {
   "cell_type": "markdown",
   "metadata": {},
   "source": [
    "#### 3.3.2 - Updating a dictionary:\n",
    "You can update a dictionary by adding a new entry or a key-value pair, modifying an existing entry, or deleting an existing entry."
   ]
  },
  {
   "cell_type": "code",
   "execution_count": 47,
   "metadata": {},
   "outputs": [
    {
     "name": "stdout",
     "output_type": "stream",
     "text": [
      "{'Name': 'Patrick', 'Weight': 10, 'Age': 4}\n"
     ]
    }
   ],
   "source": [
    "mycat = {'Name': 'Patrick', 'Weight': 7, 'Age': 3}\n",
    "mycat['Age'] = 4\n",
    "mycat['Weight'] = 10\n",
    "\n",
    "print(mycat)"
   ]
  },
  {
   "cell_type": "markdown",
   "metadata": {},
   "source": [
    "#### 3.3.2 - Deleting dictionary elements:\n",
    "You can either remove individual dictionary elements or clear the entire contents of a dictionary. You can also delete entire dictionary in a single operation."
   ]
  },
  {
   "cell_type": "code",
   "execution_count": 51,
   "metadata": {},
   "outputs": [
    {
     "name": "stdout",
     "output_type": "stream",
     "text": [
      "{'Weight': 7, 'Age': 3}\n",
      "{}\n"
     ]
    }
   ],
   "source": [
    "mycat = {'Name': 'Patrick', 'Weight': 7, 'Age': 3}\n",
    "del mycat['Name'] # remove entry with key 'Name'\n",
    "print(mycat)\n",
    "mycat.clear()     # remove all entries in dict\n",
    "print(mycat)"
   ]
  },
  {
   "cell_type": "markdown",
   "metadata": {},
   "source": [
    "<a id='3.4'></a>\n",
    "### 3.4 - Sets:\n",
    "Set is an unordered collection of unique items. Set is defined by values separated by comma inside braces $\\{~\\}$. Items in a set are not ordered.\n",
    "\n",
    "More info at: https://www.youtube.com/watch?v=sBvaPopWOmQ&list=PLi01XoE8jYohWFPpC17Z-wWhPOSuh8Er-&index=14&t=0s"
   ]
  },
  {
   "cell_type": "markdown",
   "metadata": {},
   "source": [
    "#### 3.3.1 - Set methods:\n",
    "Again, a set is an object in Python, and thus has multiple associated methods."
   ]
  },
  {
   "cell_type": "code",
   "execution_count": 31,
   "metadata": {
    "scrolled": false
   },
   "outputs": [
    {
     "name": "stdout",
     "output_type": "stream",
     "text": [
      "Set methods: ['__and__', '__class__', '__contains__', '__delattr__', '__dir__', '__doc__', '__eq__', '__format__', '__ge__', '__getattribute__', '__gt__', '__hash__', '__iand__', '__init__', '__init_subclass__', '__ior__', '__isub__', '__iter__', '__ixor__', '__le__', '__len__', '__lt__', '__ne__', '__new__', '__or__', '__rand__', '__reduce__', '__reduce_ex__', '__repr__', '__ror__', '__rsub__', '__rxor__', '__setattr__', '__sizeof__', '__str__', '__sub__', '__subclasshook__', '__xor__', 'add', 'clear', 'copy', 'difference', 'difference_update', 'discard', 'intersection', 'intersection_update', 'isdisjoint', 'issubset', 'issuperset', 'pop', 'remove', 'symmetric_difference', 'symmetric_difference_update', 'union', 'update']\n"
     ]
    }
   ],
   "source": [
    "print('Set methods:', dir(set))"
   ]
  },
  {
   "cell_type": "markdown",
   "metadata": {},
   "source": [
    "#### 3.3.2 - Operating on a Set:\n",
    "Set operations in Python can be performed in two different ways: By operator or by method."
   ]
  },
  {
   "cell_type": "code",
   "execution_count": 56,
   "metadata": {
    "scrolled": true
   },
   "outputs": [
    {
     "name": "stdout",
     "output_type": "stream",
     "text": [
      "{'b', 'c', 'd', 'a', 'e'}\n",
      "{'b', 'c', 'd', 'a', 'e'}\n",
      "{'c'}\n",
      "{'c'}\n",
      "{'a', 'b'}\n",
      "{'a', 'b'}\n"
     ]
    }
   ],
   "source": [
    "x1 = {'a', 'b', 'c'}\n",
    "x2 = {'c', 'd', 'e'}\n",
    "\n",
    "print(x1 | x2)\n",
    "print(x1.union(x2))\n",
    "\n",
    "print(x1 & x2)\n",
    "print(x1.intersection(x2))\n",
    "\n",
    "print(x1 - x2)\n",
    "print(x1.difference(x2))"
   ]
  },
  {
   "cell_type": "markdown",
   "metadata": {},
   "source": [
    "![title](https://img.pngio.com/cat-kitten-boarding-png-images-of-cat-753_526.png)\n",
    "<a id='4'></a>\n",
    "## 4 - Control structures:\n",
    "A control structure is a block of programming that analyses variables and chooses a direction in which to go based on given parameters."
   ]
  },
  {
   "cell_type": "markdown",
   "metadata": {},
   "source": [
    "<a id='4.1'></a>\n",
    "### 4.1 - If elif else:\n",
    "Decision making is required when we want to execute a block of code only if a certain condition is satisfied. The $if…elif…else$ statement is used in Python for this decision making.\n",
    "\n",
    "More info at: https://www.youtube.com/watch?v=f4KOjWS_KZs&list=PLi01XoE8jYohWFPpC17Z-wWhPOSuh8Er-&index=12&t=0s"
   ]
  },
  {
   "cell_type": "code",
   "execution_count": 32,
   "metadata": {},
   "outputs": [
    {
     "name": "stdout",
     "output_type": "stream",
     "text": [
      "That's a fair amount of cats!\n"
     ]
    }
   ],
   "source": [
    "num_of_cats = 15\n",
    "\n",
    "if num_of_cats >= 100:\n",
    "    print('That\\'s a lot of cats!')\n",
    "elif num_of_cats >= 10:\n",
    "    print('That\\'s a fair amount of cats!')\n",
    "else:\n",
    "    print('You need more cats!')"
   ]
  },
  {
   "cell_type": "markdown",
   "metadata": {},
   "source": [
    "<a id='4.2'></a>\n",
    "### 4.2 - For loop:\n",
    "The for loop in Python is used to iterate over a sequence (list, tuple, string) or other iterable objects.\n",
    "\n",
    "-  Iterate from the value 10 till 0 with an increment of -1\n",
    "-  Iterate values $i$ and $j$ sequentally over the values in the $cats$ and $attributes$ list respectively\n",
    "-  Create a list of strings using a shorthand for-loop"
   ]
  },
  {
   "cell_type": "code",
   "execution_count": 33,
   "metadata": {},
   "outputs": [
    {
     "name": "stdout",
     "output_type": "stream",
     "text": [
      "10 fluffy cats on the wall, 10 fluffy cats, take one down, pass it around, 9 fluffy cats on the wall.\n",
      "9 fluffy cats on the wall, 9 fluffy cats, take one down, pass it around, 8 fluffy cats on the wall.\n",
      "8 fluffy cats on the wall, 8 fluffy cats, take one down, pass it around, 7 fluffy cats on the wall.\n",
      "7 fluffy cats on the wall, 7 fluffy cats, take one down, pass it around, 6 fluffy cats on the wall.\n",
      "6 fluffy cats on the wall, 6 fluffy cats, take one down, pass it around, 5 fluffy cats on the wall.\n",
      "5 fluffy cats on the wall, 5 fluffy cats, take one down, pass it around, 4 fluffy cats on the wall.\n",
      "4 fluffy cats on the wall, 4 fluffy cats, take one down, pass it around, 3 fluffy cats on the wall.\n",
      "3 fluffy cats on the wall, 3 fluffy cats, take one down, pass it around, 2 fluffy cats on the wall.\n",
      "2 fluffy cats on the wall, 2 fluffy cats, take one down, pass it around, 1 fluffy cats on the wall.\n",
      "1 fluffy cats on the wall, 1 fluffy cats, take one down, pass it around, 0 fluffy cats on the wall.\n"
     ]
    }
   ],
   "source": [
    "for i in range(10, 0, -1):\n",
    "    print('{0} fluffy cats on the wall, {0} fluffy cats, take one down, pass it around, {1} fluffy cats on the wall.'.format(i, i-1))"
   ]
  },
  {
   "cell_type": "code",
   "execution_count": 34,
   "metadata": {},
   "outputs": [
    {
     "name": "stdout",
     "output_type": "stream",
     "text": [
      "My cat, Patrick, is fluffy.\n",
      "My cat, Cinnomon, is fat.\n",
      "My cat, Maki, is fabulous.\n"
     ]
    }
   ],
   "source": [
    "cats = ['Patrick', 'Cinnomon', 'Maki']\n",
    "attributes = ['fluffy', 'fat', 'fabulous']\n",
    "\n",
    "for i, j in zip(cats, attributes):\n",
    "    print('My cat, {0}, is {1}.'.format(i, j))"
   ]
  },
  {
   "cell_type": "code",
   "execution_count": 35,
   "metadata": {},
   "outputs": [
    {
     "name": "stdout",
     "output_type": "stream",
     "text": [
      "['cat0', 'cat1', 'cat2', 'cat3', 'cat4', 'cat5', 'cat6', 'cat7', 'cat8', 'cat9']\n"
     ]
    }
   ],
   "source": [
    "print(['cat{0}'.format(i) for i in range(10)])"
   ]
  },
  {
   "cell_type": "markdown",
   "metadata": {},
   "source": [
    "<a id='4.3'></a>\n",
    "### 4.3 - While loop:\n",
    "The while loop in Python is used to iterate over a block of code as long as the test expression (condition) is true. We generally use this loop when we don't know beforehand, the number of times to iterate.\n",
    "\n",
    "-  We import the package $time$ to delay our program for a specified number of seconds"
   ]
  },
  {
   "cell_type": "code",
   "execution_count": 36,
   "metadata": {},
   "outputs": [
    {
     "name": "stdout",
     "output_type": "stream",
     "text": [
      "Pretend to be doing important work\n",
      "0 minute(s) pass...\n",
      "Pretend to be doing important work\n",
      "1 minute(s) pass...\n",
      "Pretend to be doing important work\n",
      "2 minute(s) pass...\n",
      "Pretend to be doing important work\n",
      "3 minute(s) pass...\n",
      "Pretend to be doing important work\n",
      "4 minute(s) pass...\n",
      "Party time!\n"
     ]
    }
   ],
   "source": [
    "import time\n",
    "\n",
    "prof_in_office = True\n",
    "minutes = 0\n",
    "\n",
    "while prof_in_office is True:\n",
    "    print('Pretend to be doing important work')\n",
    "    print('{0} minute(s) pass...'.format(minutes))\n",
    "    \n",
    "    time.sleep(1)\n",
    "    minutes += 1\n",
    "    \n",
    "    if minutes == 5:\n",
    "        prof_in_office = False\n",
    "print('Party time!')"
   ]
  },
  {
   "cell_type": "markdown",
   "metadata": {},
   "source": [
    "<a id='4.4'></a>\n",
    "### 4.4 - Loop control statements:\n",
    "In Python, $break$ and $continue$ statements can alter the flow of a normal loop. Loops iterate over a block of code until test expression is $False$, but sometimes we wish to terminate the current iteration or even the whole loop without checking test expression. The $pass$ statement in Python is used when a statement is required syntactically but you do not want any command or code to execute.\n",
    "\n",
    "-  If the letters in the string are either 'h' or 'f', $continue$ to the begining of the for-loop\n",
    "-  If the letters in the string are either 'h' or 'f', $break$ out of the for-loop\n",
    "-  The $pass$ statement is a null operation; nothing happens when it executes"
   ]
  },
  {
   "cell_type": "code",
   "execution_count": 37,
   "metadata": {},
   "outputs": [
    {
     "name": "stdout",
     "output_type": "stream",
     "text": [
      "c\n",
      "a\n",
      "t\n",
      "s\n",
      " \n",
      "a\n",
      "r\n",
      "e\n",
      " \n",
      "a\n",
      "w\n",
      "e\n",
      "s\n",
      "o\n",
      "m\n",
      "e\n"
     ]
    }
   ],
   "source": [
    "for letter in 'chafhts arfhe hahwefhsfomhe': \n",
    "    if letter == 'h' or letter == 'f':\n",
    "         continue\n",
    "    print(letter)"
   ]
  },
  {
   "cell_type": "code",
   "execution_count": 38,
   "metadata": {},
   "outputs": [
    {
     "name": "stdout",
     "output_type": "stream",
     "text": [
      "c\n"
     ]
    }
   ],
   "source": [
    "for letter in 'chafhts arfhe hahwefhsfomhe': \n",
    "    if letter == 'h' or letter == 'f':\n",
    "         break\n",
    "            \n",
    "    print(letter)"
   ]
  },
  {
   "cell_type": "code",
   "execution_count": 39,
   "metadata": {},
   "outputs": [
    {
     "name": "stdout",
     "output_type": "stream",
     "text": [
      "c\n",
      "h\n",
      "a\n",
      "f\n",
      "h\n",
      "t\n",
      "s\n",
      " \n",
      "a\n",
      "r\n",
      "f\n",
      "h\n",
      "e\n",
      " \n",
      "h\n",
      "a\n",
      "h\n",
      "w\n",
      "e\n",
      "f\n",
      "h\n",
      "s\n",
      "f\n",
      "o\n",
      "m\n",
      "h\n",
      "e\n"
     ]
    }
   ],
   "source": [
    "for letter in 'chafhts arfhe hahwefhsfomhe':\n",
    "    pass\n",
    "\n",
    "    print(letter)"
   ]
  },
  {
   "cell_type": "markdown",
   "metadata": {},
   "source": [
    "<a id='4.5'></a>\n",
    "### 4.5 - Try except:"
   ]
  },
  {
   "cell_type": "code",
   "execution_count": 40,
   "metadata": {},
   "outputs": [
    {
     "name": "stdout",
     "output_type": "stream",
     "text": [
      "Ermahgerd, error!\n"
     ]
    }
   ],
   "source": [
    "try:\n",
    "    if 1 / 0 is 'pie':\n",
    "        print('Great success!')\n",
    "except ZeroDivisionError:\n",
    "    print('Ermahgerd, error!')"
   ]
  },
  {
   "cell_type": "markdown",
   "metadata": {},
   "source": [
    "![title](https://i.dlpng.com/static/png/175553_thumb.png)\n",
    "<a id='5'></a>\n",
    "## 5 - Object-oriented design:\n",
    "Python is an object oriented programming language. Unlike procedure oriented programming, where the main emphasis is on functions, object oriented programming stress on objects. Object is simply a collection of data (variables) and methods (functions) that act on those data. And, class is a blueprint for the object. We can think of class as a sketch (prototype) of a house. It contains all the details about the floors, doors, windows etc. Based on these descriptions we build the house. House is the object. As, many houses can be made from a description, we can create many objects from a class. An object is also called an instance of a class and the process of creating this object is called instantiation."
   ]
  },
  {
   "cell_type": "markdown",
   "metadata": {},
   "source": [
    "<a id='5.1'></a>\n",
    "### 5.1 - Functions:\n",
    "In Python, function is a group of related statements that perform a specific task. Functions help break our program into smaller and modular chunks. As our program grows larger and larger, functions make it more organized and manageable. Furthermore, it avoids repetition and makes code reusable. Functions always begin with the keyword $def$.\n",
    "\n",
    "More info at: https://www.youtube.com/watch?v=NE97ylAnrz4&list=PLi01XoE8jYohWFPpC17Z-wWhPOSuh8Er-&index=13&t=0s"
   ]
  },
  {
   "cell_type": "code",
   "execution_count": 41,
   "metadata": {},
   "outputs": [
    {
     "name": "stdout",
     "output_type": "stream",
     "text": [
      "5\n",
      "21\n",
      "Oh you are a special snowflake!\n"
     ]
    }
   ],
   "source": [
    "def calculate(a, b, operation):\n",
    "    if operation is 'add':\n",
    "        if a == 9 and b == 10:\n",
    "            return 21\n",
    "        else:\n",
    "            return a + b\n",
    "    elif operation is 'sub':\n",
    "        return a - b\n",
    "    elif operation is 'mul':\n",
    "        return a * b\n",
    "    elif operation is 'div':\n",
    "        try:\n",
    "            return a / b\n",
    "        except:\n",
    "            return 'Oh you are a special snowflake!'\n",
    "    else:\n",
    "        return 'I can\\'t do that!'\n",
    "\n",
    "print(calculate(7, 2, 'sub'))\n",
    "print(calculate(9, 10, 'add'))\n",
    "print(calculate(1, 0, 'div'))"
   ]
  },
  {
   "cell_type": "markdown",
   "metadata": {},
   "source": [
    "<a id='5.2'></a>\n",
    "### 5.2 - Classes:\n",
    "Like function definitions begin with the keyword $def$, in Python, we define a class using the keyword $class$.\n",
    "\n",
    "More info at: https://www.youtube.com/watch?v=apACNr7DC_s&list=PLi01XoE8jYohWFPpC17Z-wWhPOSuh8Er-&index=24&t=0s\n",
    "\n",
    "-  The special $\\_\\_init\\_\\_()$ function gets called whenever a new object of that class is instantiated\\"
   ]
  },
  {
   "cell_type": "code",
   "execution_count": 42,
   "metadata": {},
   "outputs": [
    {
     "name": "stdout",
     "output_type": "stream",
     "text": [
      "Zebras can run up to 35 miles per hour!\n",
      "Cats eat meat.\n"
     ]
    }
   ],
   "source": [
    "class Animal:\n",
    "    def __init__(self, animal_name, cuteness, num_legs, run_speed, eats_meat):\n",
    "        self.animal_name = animal_name\n",
    "        self.cuteness = cuteness\n",
    "        self.num_legs = num_legs\n",
    "        self.run_speed = run_speed\n",
    "        self.eats_meat = eats_meat\n",
    "\n",
    "zebra = Animal('Zebra', 7, 4, 35, False)\n",
    "cat = Animal('Cat', 9001, 4, 30, True)\n",
    "penguin = Animal('Penguin', 9, 2, 4, True)\n",
    "\n",
    "print('{0}s can run up to {1} miles per hour!'.format(zebra.animal_name, zebra.run_speed))\n",
    "print('{0}s eat meat.'.format(cat.animal_name)) if cat.eats_meat else print('{0}s do not eat meat.'.format(cat.animal_name))"
   ]
  },
  {
   "cell_type": "markdown",
   "metadata": {},
   "source": [
    "<a id='5.3'></a>\n",
    "### 5.3 - Methods:\n",
    "Methods are simply functions comained within a specific class.\n",
    "\n",
    "-  We instantiate a new person, $daniel$, who is male and has a hair length of 3cms\n",
    "-  We call the function $get\\_haircut()$ on $daniel$\n",
    "-  $daniel$ has the value of $True$ for the attribute $is\\_male$ so we send him to the $barber()$\n",
    "-  $daniel$'s hair length is reduced by 1cm\n",
    "\n",
    "\n",
    "-  We instantiate a new person, $jacqui$, who is female and has a hair length of 10cms\n",
    "-  We call the function $get\\_haircut()$ on $jacqui$\n",
    "-  $jacqui$ has the value of $False$ for the attribute $is\\_male$ so we send her to the $salon()$\n",
    "-  $jacqui$'s hair length is reduced by 3cms"
   ]
  },
  {
   "cell_type": "code",
   "execution_count": 43,
   "metadata": {},
   "outputs": [
    {
     "name": "stdout",
     "output_type": "stream",
     "text": [
      "Before: Daniel's hair is 3 cm(s) long\n",
      "After: Daniel's hair is 2 cm(s) long\n",
      "\n",
      "Before: Jacqui's hair is 10 cm(s) long\n",
      "After: Jacqui's hair is 7 cm(s) long\n"
     ]
    }
   ],
   "source": [
    "class Person:\n",
    "    def __init__(self, name, is_male, hair_length):\n",
    "        self.name = name\n",
    "        self.is_male = is_male\n",
    "        self.hair_length = hair_length\n",
    "        \n",
    "    def barber(self):\n",
    "        self.hair_length -= 1\n",
    "    \n",
    "    def salon(self):\n",
    "        self.hair_length -= 3\n",
    "    \n",
    "    def get_haircut(self):\n",
    "        if self.is_male:\n",
    "            self.barber()\n",
    "        else:\n",
    "            self.salon()\n",
    "\n",
    "daniel = Person('Daniel', True, 3)\n",
    "print('Before: {0}\\'s hair is {1} cm(s) long'.format(daniel.name, daniel.hair_length))\n",
    "daniel.get_haircut()\n",
    "print('After: {0}\\'s hair is {1} cm(s) long\\n'.format(daniel.name, daniel.hair_length))\n",
    "\n",
    "jacqui = Person('Jacqui', False, 10)\n",
    "print('Before: {0}\\'s hair is {1} cm(s) long'.format(jacqui.name, jacqui.hair_length))\n",
    "jacqui.get_haircut()\n",
    "print('After: {0}\\'s hair is {1} cm(s) long'.format(jacqui.name, jacqui.hair_length))"
   ]
  },
  {
   "cell_type": "markdown",
   "metadata": {},
   "source": [
    "<a id='5.4'></a>\n",
    "### 5.4 - Inheritance:\n",
    "Inheritance is a powerful feature in object oriented programming. It refers to defining a new class with little or no modification to an existing class. The new class is called derived (or child) class and the one from which it inherits is called the base (or parent) class.\n",
    "\n",
    "-  A polygon is a closed figure with 3 or more sides — we define a class called $Polygon$\n",
    "-  This class has data attributes to store the number of sides, $n$ and magnitude of each side as a list, $sides$\n",
    "-  The method $inputSides()$ takes in magnitude of each side and similarly, $dispSides()$ will display these properly\n",
    "-  A triangle is a polygon with 3 sides — we can created a class called $Triangle$ which inherits from $Polygon$\n",
    "-  This makes all the attributes available in class $Polygon$ readily available in $Triangle$ (i.e. we don't need to define them again)\n",
    "-  However, class $Triangle$ has a new method $findArea()$ to find and print the area of the triangle\n",
    "-  We can see that, even though we did not define methods like $inputSides()$ or $dispSides()$ for class $Triangle$, we were able to use them"
   ]
  },
  {
   "cell_type": "code",
   "execution_count": 44,
   "metadata": {},
   "outputs": [
    {
     "name": "stdout",
     "output_type": "stream",
     "text": [
      "Enter side 1 : 3\n",
      "Enter side 2 : 4\n",
      "Enter side 3 : 5\n",
      "Side 1 is 3.0\n",
      "Side 2 is 4.0\n",
      "Side 3 is 5.0\n",
      "The area of the triangle is 6.00\n"
     ]
    }
   ],
   "source": [
    "class Polygon:\n",
    "    def __init__(self, no_of_sides):\n",
    "        self.n = no_of_sides\n",
    "        self.sides = [0 for i in range(no_of_sides)]\n",
    "\n",
    "    def inputSides(self):\n",
    "        self.sides = [float(input(\"Enter side \"+str(i+1)+\" : \")) for i in range(self.n)]\n",
    "\n",
    "    def dispSides(self):\n",
    "        for i in range(self.n):\n",
    "            print(\"Side\",i+1,\"is\",self.sides[i])\n",
    "\n",
    "class Triangle(Polygon):\n",
    "    def __init__(self):\n",
    "        Polygon.__init__(self,3)\n",
    "\n",
    "    def findArea(self):\n",
    "        a, b, c = self.sides\n",
    "        # calculate the semi-perimeter\n",
    "        s = (a + b + c) / 2\n",
    "        area = (s*(s-a)*(s-b)*(s-c)) ** 0.5\n",
    "        print('The area of the triangle is %0.2f' %area)\n",
    "        \n",
    "t = Triangle()\n",
    "t.inputSides()\n",
    "t.dispSides()\n",
    "t.findArea()"
   ]
  },
  {
   "cell_type": "markdown",
   "metadata": {},
   "source": [
    "#### ![title](https://pngimage.net/wp-content/uploads/2018/06/png-hayvanlar-2.png)\n",
    "<a id='6'></a>\n",
    "## 6 - Online resources:\n",
    "Here's a few Python online resources you may find useful:"
   ]
  },
  {
   "cell_type": "markdown",
   "metadata": {},
   "source": [
    "|Type|Name|Use|Link|\n",
    "|---|---|---|---|\n",
    "|Website|Python documentation|syntax| https://docs.python.org/3/|\n",
    "|Website|TutorialsPoint|syntax|https://www.tutorialspoint.com/python/index.htm |\n",
    "|Website|StackOverflow|syntax, debugging|https://stackoverflow.com/questions/tagged/python |\n",
    "|Website|GitHub|open source code|https://github.com/ |\n",
    "|YouTube|thenewboston|tutorials|https://www.youtube.com/channel/UCJbPGzawDH1njbqV-D5HqKw |\n",
    "|YouTube|sendex|tutorials|https://www.youtube.com/user/sentdex |\n",
    "|Book|Python Crash Course|tutorials|http://ap-n.us/books/Programming/Python%20Crash%20Course.pdf|\n",
    "|Book|Automate the Boring Stuff with Python|tutorials|http://1.droppdf.com/files/5iHzx/automate-the-boring-stuff-with-python-2015-.pdf |\n",
    "\n",
    "\n",
    "![title](https://newevolutiondesigns.com/images/freebies/cat-wallpaper-48.jpg)"
   ]
  }
 ],
 "metadata": {
  "kernelspec": {
   "display_name": "Python 3",
   "language": "python",
   "name": "python3"
  },
  "language_info": {
   "codemirror_mode": {
    "name": "ipython",
    "version": 3
   },
   "file_extension": ".py",
   "mimetype": "text/x-python",
   "name": "python",
   "nbconvert_exporter": "python",
   "pygments_lexer": "ipython3",
   "version": "3.7.1"
  }
 },
 "nbformat": 4,
 "nbformat_minor": 1
}
